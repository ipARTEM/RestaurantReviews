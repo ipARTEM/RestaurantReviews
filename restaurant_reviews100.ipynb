{
 "cells": [
  {
   "cell_type": "markdown",
   "metadata": {},
   "source": [
    "# Анализ отзывов ресторанов"
   ]
  },
  {
   "cell_type": "markdown",
   "metadata": {},
   "source": [
    "## 1. Предобработка данных и анализ текста"
   ]
  },
  {
   "cell_type": "markdown",
   "metadata": {},
   "source": [
    "### 1.1. Импорт библиотек и загрузка данных"
   ]
  },
  {
   "cell_type": "code",
   "execution_count": 2,
   "metadata": {},
   "outputs": [
    {
     "name": "stdout",
     "output_type": "stream",
     "text": [
      "Collecting nltk\n",
      "  Downloading nltk-3.8.1-py3-none-any.whl.metadata (2.8 kB)\n",
      "Requirement already satisfied: click in c:\\users\\akhim\\appdata\\local\\programs\\python\\python312\\lib\\site-packages (from nltk) (8.1.7)\n",
      "Requirement already satisfied: joblib in c:\\users\\akhim\\appdata\\local\\programs\\python\\python312\\lib\\site-packages (from nltk) (1.4.0)\n",
      "Collecting regex>=2021.8.3 (from nltk)\n",
      "  Downloading regex-2024.5.15-cp312-cp312-win_amd64.whl.metadata (41 kB)\n",
      "     ---------------------------------------- 0.0/42.0 kB ? eta -:--:--\n",
      "     ---------------------------------------- 42.0/42.0 kB 2.1 MB/s eta 0:00:00\n",
      "Requirement already satisfied: tqdm in c:\\users\\akhim\\appdata\\local\\programs\\python\\python312\\lib\\site-packages (from nltk) (4.66.2)\n",
      "Requirement already satisfied: colorama in c:\\users\\akhim\\appdata\\local\\programs\\python\\python312\\lib\\site-packages (from click->nltk) (0.4.6)\n",
      "Downloading nltk-3.8.1-py3-none-any.whl (1.5 MB)\n",
      "   ---------------------------------------- 0.0/1.5 MB ? eta -:--:--\n",
      "   ----------- ---------------------------- 0.4/1.5 MB 8.7 MB/s eta 0:00:01\n",
      "   ------------------ --------------------- 0.7/1.5 MB 8.8 MB/s eta 0:00:01\n",
      "   ---------------------------------------  1.5/1.5 MB 10.6 MB/s eta 0:00:01\n",
      "   ---------------------------------------- 1.5/1.5 MB 10.6 MB/s eta 0:00:00\n",
      "Downloading regex-2024.5.15-cp312-cp312-win_amd64.whl (268 kB)\n",
      "   ---------------------------------------- 0.0/268.5 kB ? eta -:--:--\n",
      "   --------------------------------------- 268.5/268.5 kB 16.1 MB/s eta 0:00:00\n",
      "Installing collected packages: regex, nltk\n",
      "Successfully installed nltk-3.8.1 regex-2024.5.15\n"
     ]
    }
   ],
   "source": [
    "!pip install nltk"
   ]
  },
  {
   "cell_type": "code",
   "execution_count": 20,
   "metadata": {},
   "outputs": [],
   "source": [
    "# Импорт необходимых библиотек\n",
    "import pandas as pd\n",
    "import numpy as np\n",
    "import matplotlib.pyplot as plt\n",
    "import seaborn as sns\n",
    "import json\n",
    "import re\n",
    "from nltk.tokenize import word_tokenize\n",
    "from nltk.corpus import stopwords\n",
    "from nltk.stem import WordNetLemmatizer\n",
    "import nltk"
   ]
  },
  {
   "cell_type": "code",
   "execution_count": 73,
   "metadata": {},
   "outputs": [],
   "source": [
    "from sklearn.utils import shuffle"
   ]
  },
  {
   "cell_type": "code",
   "execution_count": 4,
   "metadata": {},
   "outputs": [
    {
     "name": "stderr",
     "output_type": "stream",
     "text": [
      "[nltk_data] Downloading package punkt to\n",
      "[nltk_data]     C:\\Users\\akhim\\AppData\\Roaming\\nltk_data...\n",
      "[nltk_data]   Unzipping tokenizers\\punkt.zip.\n",
      "[nltk_data] Downloading package stopwords to\n",
      "[nltk_data]     C:\\Users\\akhim\\AppData\\Roaming\\nltk_data...\n",
      "[nltk_data]   Unzipping corpora\\stopwords.zip.\n",
      "[nltk_data] Downloading package wordnet to\n",
      "[nltk_data]     C:\\Users\\akhim\\AppData\\Roaming\\nltk_data...\n"
     ]
    },
    {
     "data": {
      "text/plain": [
       "True"
      ]
     },
     "execution_count": 4,
     "metadata": {},
     "output_type": "execute_result"
    }
   ],
   "source": [
    "# Загрузка необходимых ресурсов для NLTK\n",
    "nltk.download('punkt')\n",
    "nltk.download('stopwords')\n",
    "nltk.download('wordnet')"
   ]
  },
  {
   "cell_type": "code",
   "execution_count": 30,
   "metadata": {},
   "outputs": [],
   "source": [
    "# Загрузка датасета\n",
    "with open('./DataSet/yelp_academic_dataset_review.json', 'r', encoding='utf-8') as f:\n",
    "    data = [json.loads(line) for line in f]\n",
    "\n",
    "df = pd.DataFrame(data)"
   ]
  },
  {
   "cell_type": "markdown",
   "metadata": {},
   "source": [
    "### 1.2. EDA (Исследовательский анализ данных)"
   ]
  },
  {
   "cell_type": "code",
   "execution_count": 31,
   "metadata": {},
   "outputs": [
    {
     "name": "stdout",
     "output_type": "stream",
     "text": [
      "Первые 5 строк датасета:\n",
      "                review_id                 user_id             business_id  \\\n",
      "0  KU_O5udG6zpxOg-VcAEodg  mh_-eMZ6K5RLWhZyISBhwA  XQfwVwDr-v0ZS3_CbbE5Xw   \n",
      "1  BiTunyQ73aT9WBnpR9DZGw  OyoGAe7OKpv6SyGZT5g77Q  7ATYjTIgM3jUlt4UM3IypQ   \n",
      "2  saUsX_uimxRlCVr67Z4Jig  8g_iMtfSiwikVnbP2etR0A  YjUWPpI6HXG530lwP-fb2A   \n",
      "3  AqPFMleE6RsU23_auESxiA  _7bHUi9Uuf5__HHc_Q8guQ  kxX2SOes4o-D3ZQBkiMRfA   \n",
      "4  Sx8TMOWLNuJBWer-0pcmoA  bcjbaE6dDog4jkNY91ncLQ  e4Vwtrqf-wpJfwesgvdgxQ   \n",
      "\n",
      "   stars  useful  funny  cool  \\\n",
      "0    3.0       0      0     0   \n",
      "1    5.0       1      0     1   \n",
      "2    3.0       0      0     0   \n",
      "3    5.0       1      0     1   \n",
      "4    4.0       1      0     1   \n",
      "\n",
      "                                                text                 date  \n",
      "0  If you decide to eat here, just be aware it is...  2018-07-07 22:09:11  \n",
      "1  I've taken a lot of spin classes over the year...  2012-01-03 15:28:18  \n",
      "2  Family diner. Had the buffet. Eclectic assortm...  2014-02-05 20:30:30  \n",
      "3  Wow!  Yummy, different,  delicious.   Our favo...  2015-01-04 00:01:03  \n",
      "4  Cute interior and owner (?) gave us tour of up...  2017-01-14 20:54:15  \n"
     ]
    }
   ],
   "source": [
    "# Просмотр первых строк датасета\n",
    "print(\"Первые 5 строк датасета:\")\n",
    "print(df.head())"
   ]
  },
  {
   "cell_type": "code",
   "execution_count": 32,
   "metadata": {},
   "outputs": [
    {
     "data": {
      "text/plain": [
       "<bound method DataFrame.info of                       review_id                 user_id  \\\n",
       "0        KU_O5udG6zpxOg-VcAEodg  mh_-eMZ6K5RLWhZyISBhwA   \n",
       "1        BiTunyQ73aT9WBnpR9DZGw  OyoGAe7OKpv6SyGZT5g77Q   \n",
       "2        saUsX_uimxRlCVr67Z4Jig  8g_iMtfSiwikVnbP2etR0A   \n",
       "3        AqPFMleE6RsU23_auESxiA  _7bHUi9Uuf5__HHc_Q8guQ   \n",
       "4        Sx8TMOWLNuJBWer-0pcmoA  bcjbaE6dDog4jkNY91ncLQ   \n",
       "...                         ...                     ...   \n",
       "6990275  H0RIamZu0B0Ei0P4aeh3sQ  qskILQ3k0I_qcCMI-k6_QQ   \n",
       "6990276  shTPgbgdwTHSuU67mGCmZQ  Zo0th2m8Ez4gLSbHftiQvg   \n",
       "6990277  YNfNhgZlaaCO5Q_YJR4rEw  mm6E4FbCMwJmb7kPDZ5v2Q   \n",
       "6990278  i-I4ZOhoX70Nw5H0FwrQUA  YwAMC-jvZ1fvEUum6QkEkw   \n",
       "6990279  RwcKOdEuLRHNJe4M9-qpqg  6JehEvdoCvZPJ_XIxnzIIw   \n",
       "\n",
       "                    business_id  stars  useful  funny  cool  \\\n",
       "0        XQfwVwDr-v0ZS3_CbbE5Xw    3.0       0      0     0   \n",
       "1        7ATYjTIgM3jUlt4UM3IypQ    5.0       1      0     1   \n",
       "2        YjUWPpI6HXG530lwP-fb2A    3.0       0      0     0   \n",
       "3        kxX2SOes4o-D3ZQBkiMRfA    5.0       1      0     1   \n",
       "4        e4Vwtrqf-wpJfwesgvdgxQ    4.0       1      0     1   \n",
       "...                         ...    ...     ...    ...   ...   \n",
       "6990275  jals67o91gcrD4DC81Vk6w    5.0       1      2     1   \n",
       "6990276  2vLksaMmSEcGbjI5gywpZA    5.0       2      1     2   \n",
       "6990277  R1khUUxidqfaJmcpmGd4aw    4.0       1      0     0   \n",
       "6990278  Rr9kKArrMhSLVE9a53q-aA    5.0       1      0     0   \n",
       "6990279  VAeEXLbEcI9Emt9KGYq9aA    3.0      10      3     7   \n",
       "\n",
       "                                                      text  \\\n",
       "0        If you decide to eat here, just be aware it is...   \n",
       "1        I've taken a lot of spin classes over the year...   \n",
       "2        Family diner. Had the buffet. Eclectic assortm...   \n",
       "3        Wow!  Yummy, different,  delicious.   Our favo...   \n",
       "4        Cute interior and owner (?) gave us tour of up...   \n",
       "...                                                    ...   \n",
       "6990275  Latest addition to services from ICCU is Apple...   \n",
       "6990276  This spot offers a great, affordable east week...   \n",
       "6990277  This Home Depot won me over when I needed to g...   \n",
       "6990278  For when I'm feeling like ignoring my calorie-...   \n",
       "6990279  Located in the 'Walking District' in Nashville...   \n",
       "\n",
       "                        date  \n",
       "0        2018-07-07 22:09:11  \n",
       "1        2012-01-03 15:28:18  \n",
       "2        2014-02-05 20:30:30  \n",
       "3        2015-01-04 00:01:03  \n",
       "4        2017-01-14 20:54:15  \n",
       "...                      ...  \n",
       "6990275  2014-12-17 21:45:20  \n",
       "6990276  2021-03-31 16:55:10  \n",
       "6990277  2019-12-30 03:56:30  \n",
       "6990278  2022-01-19 18:59:27  \n",
       "6990279  2018-01-02 22:50:47  \n",
       "\n",
       "[6990280 rows x 9 columns]>"
      ]
     },
     "execution_count": 32,
     "metadata": {},
     "output_type": "execute_result"
    }
   ],
   "source": [
    "df.info"
   ]
  },
  {
   "cell_type": "code",
   "execution_count": 33,
   "metadata": {},
   "outputs": [
    {
     "name": "stdout",
     "output_type": "stream",
     "text": [
      "\n",
      "Информация о датасете:\n",
      "<class 'pandas.core.frame.DataFrame'>\n",
      "RangeIndex: 6990280 entries, 0 to 6990279\n",
      "Data columns (total 9 columns):\n",
      " #   Column       Dtype  \n",
      "---  ------       -----  \n",
      " 0   review_id    object \n",
      " 1   user_id      object \n",
      " 2   business_id  object \n",
      " 3   stars        float64\n",
      " 4   useful       int64  \n",
      " 5   funny        int64  \n",
      " 6   cool         int64  \n",
      " 7   text         object \n",
      " 8   date         object \n",
      "dtypes: float64(1), int64(3), object(5)\n",
      "memory usage: 480.0+ MB\n",
      "None\n"
     ]
    }
   ],
   "source": [
    "# Информация о датасете\n",
    "print(\"\\nИнформация о датасете:\")\n",
    "print(df.info())"
   ]
  },
  {
   "cell_type": "code",
   "execution_count": 34,
   "metadata": {},
   "outputs": [
    {
     "name": "stdout",
     "output_type": "stream",
     "text": [
      "\n",
      "Статистическое описание числовых столбцов:\n",
      "              stars        useful         funny          cool\n",
      "count  6.990280e+06  6.990280e+06  6.990280e+06  6.990280e+06\n",
      "mean   3.748584e+00  1.184609e+00  3.265596e-01  4.986175e-01\n",
      "std    1.478705e+00  3.253767e+00  1.688729e+00  2.172460e+00\n",
      "min    1.000000e+00 -1.000000e+00 -1.000000e+00 -1.000000e+00\n",
      "25%    3.000000e+00  0.000000e+00  0.000000e+00  0.000000e+00\n",
      "50%    4.000000e+00  0.000000e+00  0.000000e+00  0.000000e+00\n",
      "75%    5.000000e+00  1.000000e+00  0.000000e+00  0.000000e+00\n",
      "max    5.000000e+00  1.182000e+03  7.920000e+02  4.040000e+02\n"
     ]
    }
   ],
   "source": [
    "# Статистическое описание числовых столбцов\n",
    "print(\"\\nСтатистическое описание числовых столбцов:\")\n",
    "print(df.describe())"
   ]
  },
  {
   "cell_type": "code",
   "execution_count": 35,
   "metadata": {},
   "outputs": [
    {
     "name": "stdout",
     "output_type": "stream",
     "text": [
      "\n",
      "Проверка на наличие пропущенных значений:\n",
      "review_id      0\n",
      "user_id        0\n",
      "business_id    0\n",
      "stars          0\n",
      "useful         0\n",
      "funny          0\n",
      "cool           0\n",
      "text           0\n",
      "date           0\n",
      "dtype: int64\n"
     ]
    }
   ],
   "source": [
    "# Проверка на наличие пропущенных значений\n",
    "print(\"\\nПроверка на наличие пропущенных значений:\")\n",
    "print(df.isnull().sum())"
   ]
  },
  {
   "cell_type": "code",
   "execution_count": 36,
   "metadata": {},
   "outputs": [
    {
     "name": "stdout",
     "output_type": "stream",
     "text": [
      "\n",
      "Распределение классов (звезды в отзывах):\n",
      "stars\n",
      "5.0    3231627\n",
      "4.0    1452918\n",
      "1.0    1069561\n",
      "3.0     691934\n",
      "2.0     544240\n",
      "Name: count, dtype: int64\n"
     ]
    }
   ],
   "source": [
    "# Анализ распределения классов (звезды в отзывах)\n",
    "print(\"\\nРаспределение классов (звезды в отзывах):\")\n",
    "print(df['stars'].value_counts())"
   ]
  },
  {
   "cell_type": "code",
   "execution_count": 37,
   "metadata": {},
   "outputs": [
    {
     "data": {
      "image/png": "[encoded data removed]",
      "text/plain": [
       "<Figure size 640x480 with 1 Axes>"
      ]
     },
     "metadata": {},
     "output_type": "display_data"
    }
   ],
   "source": [
    "# Визуализация распределения классов\n",
    "sns.countplot(x='stars', data=df)\n",
    "plt.title('Распределение отзывов по количеству звезд')\n",
    "plt.xlabel('Количество звезд')\n",
    "plt.ylabel('Количество отзывов')\n",
    "plt.show()"
   ]
  },
  {
   "cell_type": "code",
   "execution_count": 38,
   "metadata": {},
   "outputs": [],
   "source": [
    "# Преобразование меток (звезды) в бинарные классы (позитивные и негативные), исключая отзывы с 3 звездами\n",
    "def to_binary_class(stars):\n",
    "    if stars >= 4:\n",
    "        return 1\n",
    "    elif stars <= 2:\n",
    "        return 0\n",
    "    else:\n",
    "        return None\n",
    "\n",
    "df['label'] = df['stars'].apply(to_binary_class)"
   ]
  },
  {
   "cell_type": "code",
   "execution_count": 39,
   "metadata": {},
   "outputs": [],
   "source": [
    "# Исключение отзывов с 3 звездами\n",
    "df = df[df['label'].notna()]"
   ]
  },
  {
   "cell_type": "code",
   "execution_count": 40,
   "metadata": {},
   "outputs": [
    {
     "name": "stdout",
     "output_type": "stream",
     "text": [
      "\n",
      "Распределение классов (звезды в отзывах):\n",
      "stars\n",
      "5.0    3231627\n",
      "4.0    1452918\n",
      "1.0    1069561\n",
      "2.0     544240\n",
      "Name: count, dtype: int64\n"
     ]
    }
   ],
   "source": [
    "# Анализ распределения классов (звезды в отзывах)\n",
    "print(\"\\nРаспределение классов (звезды в отзывах):\")\n",
    "print(df['stars'].value_counts())"
   ]
  },
  {
   "cell_type": "code",
   "execution_count": 41,
   "metadata": {},
   "outputs": [
    {
     "data": {
      "image/png": "[encoded data removed]",
      "text/plain": [
       "<Figure size 640x480 with 1 Axes>"
      ]
     },
     "metadata": {},
     "output_type": "display_data"
    }
   ],
   "source": [
    "# Визуализация распределения классов\n",
    "sns.countplot(x='stars', data=df)\n",
    "plt.title('Распределение отзывов по количеству звезд')\n",
    "plt.xlabel('Количество звезд')\n",
    "plt.ylabel('Количество отзывов')\n",
    "plt.show()"
   ]
  },
  {
   "cell_type": "code",
   "execution_count": 43,
   "metadata": {},
   "outputs": [
    {
     "data": {
      "image/png": "[encoded data removed]",
      "text/plain": [
       "<Figure size 640x480 with 1 Axes>"
      ]
     },
     "metadata": {},
     "output_type": "display_data"
    }
   ],
   "source": [
    "# Визуализация распределения классов\n",
    "sns.countplot(x='label', data=df)\n",
    "plt.title('Распределение отзывов: положительные - 1, отрицательные - 0 ')\n",
    "plt.xlabel('Классы')\n",
    "plt.ylabel('Количество отзывов')\n",
    "plt.show()"
   ]
  },
  {
   "cell_type": "code",
   "execution_count": 44,
   "metadata": {},
   "outputs": [
    {
     "data": {
      "text/plain": [
       "<bound method DataFrame.info of                       review_id                 user_id  \\\n",
       "1        BiTunyQ73aT9WBnpR9DZGw  OyoGAe7OKpv6SyGZT5g77Q   \n",
       "3        AqPFMleE6RsU23_auESxiA  _7bHUi9Uuf5__HHc_Q8guQ   \n",
       "4        Sx8TMOWLNuJBWer-0pcmoA  bcjbaE6dDog4jkNY91ncLQ   \n",
       "5        JrIxlS1TzJ-iCu79ul40cQ  eUta8W_HdHMXPzLBBZhL1A   \n",
       "6        6AxgBCNX_PNTOxmbRSwcKQ  r3zeYsv1XFBRA4dJpL78cw   \n",
       "...                         ...                     ...   \n",
       "6990274  YVX1Wsa4LYxjvFwuHBb_gA  RKPkxOYQlM0BjhM-H6_vAw   \n",
       "6990275  H0RIamZu0B0Ei0P4aeh3sQ  qskILQ3k0I_qcCMI-k6_QQ   \n",
       "6990276  shTPgbgdwTHSuU67mGCmZQ  Zo0th2m8Ez4gLSbHftiQvg   \n",
       "6990277  YNfNhgZlaaCO5Q_YJR4rEw  mm6E4FbCMwJmb7kPDZ5v2Q   \n",
       "6990278  i-I4ZOhoX70Nw5H0FwrQUA  YwAMC-jvZ1fvEUum6QkEkw   \n",
       "\n",
       "                    business_id  stars  useful  funny  cool  \\\n",
       "1        7ATYjTIgM3jUlt4UM3IypQ    5.0       1      0     1   \n",
       "3        kxX2SOes4o-D3ZQBkiMRfA    5.0       1      0     1   \n",
       "4        e4Vwtrqf-wpJfwesgvdgxQ    4.0       1      0     1   \n",
       "5        04UD14gamNjLY0IDYVhHJg    1.0       1      2     1   \n",
       "6        gmjsEdUsKpj9Xxu6pdjH0g    5.0       0      2     0   \n",
       "...                         ...    ...     ...    ...   ...   \n",
       "6990274  X4mouE_cMiwbfyCPZ_K-FA    4.0       3      0     2   \n",
       "6990275  jals67o91gcrD4DC81Vk6w    5.0       1      2     1   \n",
       "6990276  2vLksaMmSEcGbjI5gywpZA    5.0       2      1     2   \n",
       "6990277  R1khUUxidqfaJmcpmGd4aw    4.0       1      0     0   \n",
       "6990278  Rr9kKArrMhSLVE9a53q-aA    5.0       1      0     0   \n",
       "\n",
       "                                                      text  \\\n",
       "1        I've taken a lot of spin classes over the year...   \n",
       "3        Wow!  Yummy, different,  delicious.   Our favo...   \n",
       "4        Cute interior and owner (?) gave us tour of up...   \n",
       "5        I am a long term frequent customer of this est...   \n",
       "6        Loved this tour! I grabbed a groupon and the p...   \n",
       "...                                                    ...   \n",
       "6990274  Good, maybe very good.  I went for lunch, so t...   \n",
       "6990275  Latest addition to services from ICCU is Apple...   \n",
       "6990276  This spot offers a great, affordable east week...   \n",
       "6990277  This Home Depot won me over when I needed to g...   \n",
       "6990278  For when I'm feeling like ignoring my calorie-...   \n",
       "\n",
       "                        date  label  \n",
       "1        2012-01-03 15:28:18    1.0  \n",
       "3        2015-01-04 00:01:03    1.0  \n",
       "4        2017-01-14 20:54:15    1.0  \n",
       "5        2015-09-23 23:10:31    0.0  \n",
       "6        2015-01-03 23:21:18    1.0  \n",
       "...                      ...    ...  \n",
       "6990274  2015-01-23 23:52:03    1.0  \n",
       "6990275  2014-12-17 21:45:20    1.0  \n",
       "6990276  2021-03-31 16:55:10    1.0  \n",
       "6990277  2019-12-30 03:56:30    1.0  \n",
       "6990278  2022-01-19 18:59:27    1.0  \n",
       "\n",
       "[6298346 rows x 10 columns]>"
      ]
     },
     "execution_count": 44,
     "metadata": {},
     "output_type": "execute_result"
    }
   ],
   "source": [
    "df.info"
   ]
  },
  {
   "cell_type": "markdown",
   "metadata": {},
   "source": [
    "### 1.3. Предобработка данных"
   ]
  },
  {
   "cell_type": "code",
   "execution_count": 45,
   "metadata": {},
   "outputs": [
    {
     "name": "stdout",
     "output_type": "stream",
     "text": [
      "Количество дубликатов до удаления: 0\n",
      "Количество дубликатов после удаления: 0\n"
     ]
    }
   ],
   "source": [
    "# Удаление дубликатов\n",
    "print(f\"Количество дубликатов до удаления: {df.duplicated().sum()}\")\n",
    "df = df.drop_duplicates()\n",
    "print(f\"Количество дубликатов после удаления: {df.duplicated().sum()}\")"
   ]
  },
  {
   "cell_type": "code",
   "execution_count": 46,
   "metadata": {},
   "outputs": [],
   "source": [
    "# Очистка текста от лишних символов\n",
    "def clean_text(text):\n",
    "    text = text.lower()  # Приведение текста к нижнему регистру\n",
    "    text = re.sub(r'<.*?>', '', text)  # Удаление HTML-тегов\n",
    "    text = re.sub(r'[^\\w\\s]', '', text)  # Удаление знаков препинания\n",
    "    text = re.sub(r'\\d+', '', text)  # Удаление чисел\n",
    "    return text"
   ]
  },
  {
   "cell_type": "code",
   "execution_count": 47,
   "metadata": {},
   "outputs": [],
   "source": [
    "df['cleaned_text'] = df['text'].apply(clean_text)"
   ]
  },
  {
   "cell_type": "code",
   "execution_count": 48,
   "metadata": {},
   "outputs": [],
   "source": [
    "# Токенизация текста\n",
    "df['tokens'] = df['cleaned_text'].apply(word_tokenize)"
   ]
  },
  {
   "cell_type": "code",
   "execution_count": 49,
   "metadata": {},
   "outputs": [],
   "source": [
    "# Удаление стоп-слов и лемматизация\n",
    "stop_words = set(stopwords.words('english'))\n",
    "lemmatizer = WordNetLemmatizer()"
   ]
  },
  {
   "cell_type": "code",
   "execution_count": 50,
   "metadata": {},
   "outputs": [],
   "source": [
    "def preprocess_text(tokens):\n",
    "    tokens = [word for word in tokens if word not in stop_words]  # Удаление стоп-слов\n",
    "    tokens = [lemmatizer.lemmatize(word) for word in tokens]  # Лемматизация\n",
    "    return tokens"
   ]
  },
  {
   "cell_type": "code",
   "execution_count": 51,
   "metadata": {},
   "outputs": [],
   "source": [
    "df['processed_tokens'] = df['tokens'].apply(preprocess_text)"
   ]
  },
  {
   "cell_type": "code",
   "execution_count": 52,
   "metadata": {},
   "outputs": [
    {
     "name": "stdout",
     "output_type": "stream",
     "text": [
      "                                        cleaned_text  \\\n",
      "1  ive taken a lot of spin classes over the years...   \n",
      "3  wow  yummy different  delicious   our favorite...   \n",
      "4  cute interior and owner  gave us tour of upcom...   \n",
      "5  i am a long term frequent customer of this est...   \n",
      "6  loved this tour i grabbed a groupon and the pr...   \n",
      "\n",
      "                                              tokens  \\\n",
      "1  [ive, taken, a, lot, of, spin, classes, over, ...   \n",
      "3  [wow, yummy, different, delicious, our, favori...   \n",
      "4  [cute, interior, and, owner, gave, us, tour, o...   \n",
      "5  [i, am, a, long, term, frequent, customer, of,...   \n",
      "6  [loved, this, tour, i, grabbed, a, groupon, an...   \n",
      "\n",
      "                                    processed_tokens  \n",
      "1  [ive, taken, lot, spin, class, year, nothing, ...  \n",
      "3  [wow, yummy, different, delicious, favorite, l...  \n",
      "4  [cute, interior, owner, gave, u, tour, upcomin...  \n",
      "5  [long, term, frequent, customer, establishment...  \n",
      "6  [loved, tour, grabbed, groupon, price, great, ...  \n"
     ]
    }
   ],
   "source": [
    "# Вывод первых 5 строк после предобработки\n",
    "print(df[['cleaned_text', 'tokens', 'processed_tokens']].head())"
   ]
  },
  {
   "cell_type": "code",
   "execution_count": 53,
   "metadata": {},
   "outputs": [],
   "source": [
    "# Сохранение предобработанных данных\n",
    "df.to_csv('cleaned_reviews.csv', index=False)"
   ]
  },
  {
   "cell_type": "markdown",
   "metadata": {},
   "source": [
    "#### Загрузка предобработанных данных"
   ]
  },
  {
   "cell_type": "code",
   "execution_count": 54,
   "metadata": {},
   "outputs": [],
   "source": [
    "# Загрузка предобработанных данных\n",
    "df01 = pd.read_csv('cleaned_reviews.csv')"
   ]
  },
  {
   "cell_type": "code",
   "execution_count": 55,
   "metadata": {},
   "outputs": [
    {
     "name": "stdout",
     "output_type": "stream",
     "text": [
      "                review_id                 user_id             business_id  \\\n",
      "0  BiTunyQ73aT9WBnpR9DZGw  OyoGAe7OKpv6SyGZT5g77Q  7ATYjTIgM3jUlt4UM3IypQ   \n",
      "1  AqPFMleE6RsU23_auESxiA  _7bHUi9Uuf5__HHc_Q8guQ  kxX2SOes4o-D3ZQBkiMRfA   \n",
      "2  Sx8TMOWLNuJBWer-0pcmoA  bcjbaE6dDog4jkNY91ncLQ  e4Vwtrqf-wpJfwesgvdgxQ   \n",
      "3  JrIxlS1TzJ-iCu79ul40cQ  eUta8W_HdHMXPzLBBZhL1A  04UD14gamNjLY0IDYVhHJg   \n",
      "4  6AxgBCNX_PNTOxmbRSwcKQ  r3zeYsv1XFBRA4dJpL78cw  gmjsEdUsKpj9Xxu6pdjH0g   \n",
      "\n",
      "   stars  useful  funny  cool  \\\n",
      "0    5.0       1      0     1   \n",
      "1    5.0       1      0     1   \n",
      "2    4.0       1      0     1   \n",
      "3    1.0       1      2     1   \n",
      "4    5.0       0      2     0   \n",
      "\n",
      "                                                text                 date  \\\n",
      "0  I've taken a lot of spin classes over the year...  2012-01-03 15:28:18   \n",
      "1  Wow!  Yummy, different,  delicious.   Our favo...  2015-01-04 00:01:03   \n",
      "2  Cute interior and owner (?) gave us tour of up...  2017-01-14 20:54:15   \n",
      "3  I am a long term frequent customer of this est...  2015-09-23 23:10:31   \n",
      "4  Loved this tour! I grabbed a groupon and the p...  2015-01-03 23:21:18   \n",
      "\n",
      "   label                                       cleaned_text  \\\n",
      "0    1.0  ive taken a lot of spin classes over the years...   \n",
      "1    1.0  wow  yummy different  delicious   our favorite...   \n",
      "2    1.0  cute interior and owner  gave us tour of upcom...   \n",
      "3    0.0  i am a long term frequent customer of this est...   \n",
      "4    1.0  loved this tour i grabbed a groupon and the pr...   \n",
      "\n",
      "                                              tokens  \\\n",
      "0  ['ive', 'taken', 'a', 'lot', 'of', 'spin', 'cl...   \n",
      "1  ['wow', 'yummy', 'different', 'delicious', 'ou...   \n",
      "2  ['cute', 'interior', 'and', 'owner', 'gave', '...   \n",
      "3  ['i', 'am', 'a', 'long', 'term', 'frequent', '...   \n",
      "4  ['loved', 'this', 'tour', 'i', 'grabbed', 'a',...   \n",
      "\n",
      "                                    processed_tokens  \n",
      "0  ['ive', 'taken', 'lot', 'spin', 'class', 'year...  \n",
      "1  ['wow', 'yummy', 'different', 'delicious', 'fa...  \n",
      "2  ['cute', 'interior', 'owner', 'gave', 'u', 'to...  \n",
      "3  ['long', 'term', 'frequent', 'customer', 'esta...  \n",
      "4  ['loved', 'tour', 'grabbed', 'groupon', 'price...  \n"
     ]
    }
   ],
   "source": [
    "# Примерно посмотрим на данные\n",
    "print(df01.head())"
   ]
  },
  {
   "cell_type": "code",
   "execution_count": 56,
   "metadata": {},
   "outputs": [
    {
     "data": {
      "text/plain": [
       "<bound method DataFrame.info of                       review_id                 user_id  \\\n",
       "0        BiTunyQ73aT9WBnpR9DZGw  OyoGAe7OKpv6SyGZT5g77Q   \n",
       "1        AqPFMleE6RsU23_auESxiA  _7bHUi9Uuf5__HHc_Q8guQ   \n",
       "2        Sx8TMOWLNuJBWer-0pcmoA  bcjbaE6dDog4jkNY91ncLQ   \n",
       "3        JrIxlS1TzJ-iCu79ul40cQ  eUta8W_HdHMXPzLBBZhL1A   \n",
       "4        6AxgBCNX_PNTOxmbRSwcKQ  r3zeYsv1XFBRA4dJpL78cw   \n",
       "...                         ...                     ...   \n",
       "6298341  YVX1Wsa4LYxjvFwuHBb_gA  RKPkxOYQlM0BjhM-H6_vAw   \n",
       "6298342  H0RIamZu0B0Ei0P4aeh3sQ  qskILQ3k0I_qcCMI-k6_QQ   \n",
       "6298343  shTPgbgdwTHSuU67mGCmZQ  Zo0th2m8Ez4gLSbHftiQvg   \n",
       "6298344  YNfNhgZlaaCO5Q_YJR4rEw  mm6E4FbCMwJmb7kPDZ5v2Q   \n",
       "6298345  i-I4ZOhoX70Nw5H0FwrQUA  YwAMC-jvZ1fvEUum6QkEkw   \n",
       "\n",
       "                    business_id  stars  useful  funny  cool  \\\n",
       "0        7ATYjTIgM3jUlt4UM3IypQ    5.0       1      0     1   \n",
       "1        kxX2SOes4o-D3ZQBkiMRfA    5.0       1      0     1   \n",
       "2        e4Vwtrqf-wpJfwesgvdgxQ    4.0       1      0     1   \n",
       "3        04UD14gamNjLY0IDYVhHJg    1.0       1      2     1   \n",
       "4        gmjsEdUsKpj9Xxu6pdjH0g    5.0       0      2     0   \n",
       "...                         ...    ...     ...    ...   ...   \n",
       "6298341  X4mouE_cMiwbfyCPZ_K-FA    4.0       3      0     2   \n",
       "6298342  jals67o91gcrD4DC81Vk6w    5.0       1      2     1   \n",
       "6298343  2vLksaMmSEcGbjI5gywpZA    5.0       2      1     2   \n",
       "6298344  R1khUUxidqfaJmcpmGd4aw    4.0       1      0     0   \n",
       "6298345  Rr9kKArrMhSLVE9a53q-aA    5.0       1      0     0   \n",
       "\n",
       "                                                      text  \\\n",
       "0        I've taken a lot of spin classes over the year...   \n",
       "1        Wow!  Yummy, different,  delicious.   Our favo...   \n",
       "2        Cute interior and owner (?) gave us tour of up...   \n",
       "3        I am a long term frequent customer of this est...   \n",
       "4        Loved this tour! I grabbed a groupon and the p...   \n",
       "...                                                    ...   \n",
       "6298341  Good, maybe very good.  I went for lunch, so t...   \n",
       "6298342  Latest addition to services from ICCU is Apple...   \n",
       "6298343  This spot offers a great, affordable east week...   \n",
       "6298344  This Home Depot won me over when I needed to g...   \n",
       "6298345  For when I'm feeling like ignoring my calorie-...   \n",
       "\n",
       "                        date  label  \\\n",
       "0        2012-01-03 15:28:18    1.0   \n",
       "1        2015-01-04 00:01:03    1.0   \n",
       "2        2017-01-14 20:54:15    1.0   \n",
       "3        2015-09-23 23:10:31    0.0   \n",
       "4        2015-01-03 23:21:18    1.0   \n",
       "...                      ...    ...   \n",
       "6298341  2015-01-23 23:52:03    1.0   \n",
       "6298342  2014-12-17 21:45:20    1.0   \n",
       "6298343  2021-03-31 16:55:10    1.0   \n",
       "6298344  2019-12-30 03:56:30    1.0   \n",
       "6298345  2022-01-19 18:59:27    1.0   \n",
       "\n",
       "                                              cleaned_text  \\\n",
       "0        ive taken a lot of spin classes over the years...   \n",
       "1        wow  yummy different  delicious   our favorite...   \n",
       "2        cute interior and owner  gave us tour of upcom...   \n",
       "3        i am a long term frequent customer of this est...   \n",
       "4        loved this tour i grabbed a groupon and the pr...   \n",
       "...                                                    ...   \n",
       "6298341  good maybe very good  i went for lunch so the ...   \n",
       "6298342  latest addition to services from iccu is apple...   \n",
       "6298343  this spot offers a great affordable east weeke...   \n",
       "6298344  this home depot won me over when i needed to g...   \n",
       "6298345  for when im feeling like ignoring my calorieco...   \n",
       "\n",
       "                                                    tokens  \\\n",
       "0        ['ive', 'taken', 'a', 'lot', 'of', 'spin', 'cl...   \n",
       "1        ['wow', 'yummy', 'different', 'delicious', 'ou...   \n",
       "2        ['cute', 'interior', 'and', 'owner', 'gave', '...   \n",
       "3        ['i', 'am', 'a', 'long', 'term', 'frequent', '...   \n",
       "4        ['loved', 'this', 'tour', 'i', 'grabbed', 'a',...   \n",
       "...                                                    ...   \n",
       "6298341  ['good', 'maybe', 'very', 'good', 'i', 'went',...   \n",
       "6298342  ['latest', 'addition', 'to', 'services', 'from...   \n",
       "6298343  ['this', 'spot', 'offers', 'a', 'great', 'affo...   \n",
       "6298344  ['this', 'home', 'depot', 'won', 'me', 'over',...   \n",
       "6298345  ['for', 'when', 'im', 'feeling', 'like', 'igno...   \n",
       "\n",
       "                                          processed_tokens  \n",
       "0        ['ive', 'taken', 'lot', 'spin', 'class', 'year...  \n",
       "1        ['wow', 'yummy', 'different', 'delicious', 'fa...  \n",
       "2        ['cute', 'interior', 'owner', 'gave', 'u', 'to...  \n",
       "3        ['long', 'term', 'frequent', 'customer', 'esta...  \n",
       "4        ['loved', 'tour', 'grabbed', 'groupon', 'price...  \n",
       "...                                                    ...  \n",
       "6298341  ['good', 'maybe', 'good', 'went', 'lunch', 'he...  \n",
       "6298342  ['latest', 'addition', 'service', 'iccu', 'app...  \n",
       "6298343  ['spot', 'offer', 'great', 'affordable', 'east...  \n",
       "6298344  ['home', 'depot', 'needed', 'get', 'lot', 'dem...  \n",
       "6298345  ['im', 'feeling', 'like', 'ignoring', 'calorie...  \n",
       "\n",
       "[6298346 rows x 13 columns]>"
      ]
     },
     "execution_count": 56,
     "metadata": {},
     "output_type": "execute_result"
    }
   ],
   "source": [
    "df01.info"
   ]
  },
  {
   "cell_type": "code",
   "execution_count": 57,
   "metadata": {},
   "outputs": [
    {
     "name": "stdout",
     "output_type": "stream",
     "text": [
      "Количество уникальных значений в столбце 'review_id': 6298346\n",
      "Количество уникальных значений в столбце 'user_id': 1933215\n",
      "Количество уникальных значений в столбце 'business_id': 150344\n",
      "Количество уникальных значений в столбце 'stars': 4\n",
      "Количество уникальных значений в столбце 'useful': 256\n",
      "Количество уникальных значений в столбце 'funny': 196\n",
      "Количество уникальных значений в столбце 'cool': 208\n",
      "Количество уникальных значений в столбце 'text': 6283563\n",
      "Количество уникальных значений в столбце 'date': 6211483\n",
      "Количество уникальных значений в столбце 'label': 2\n",
      "Количество уникальных значений в столбце 'cleaned_text': 6281537\n",
      "Количество уникальных значений в столбце 'tokens': 6280837\n",
      "Количество уникальных значений в столбце 'processed_tokens': 6279586\n"
     ]
    }
   ],
   "source": [
    "# Вывод количества уникальных значений по каждому столбцу\n",
    "for column in df01.columns:\n",
    "    unique_count = df01[column].nunique()\n",
    "    print(f\"Количество уникальных значений в столбце '{column}': {unique_count}\")"
   ]
  },
  {
   "cell_type": "code",
   "execution_count": 58,
   "metadata": {},
   "outputs": [
    {
     "name": "stdout",
     "output_type": "stream",
     "text": [
      "Первые 10 уникальных значений в столбце 'review_id': ['BiTunyQ73aT9WBnpR9DZGw' 'AqPFMleE6RsU23_auESxiA'\n",
      " 'Sx8TMOWLNuJBWer-0pcmoA' 'JrIxlS1TzJ-iCu79ul40cQ'\n",
      " '6AxgBCNX_PNTOxmbRSwcKQ' '_ZeMknuYdlQcUqng_Im3yg'\n",
      " 'rGQRf8UafX7OTlMNN19I8A' 'l3Wk_mvAog6XANIuGQ9C7Q'\n",
      " 'XW_LfMv0fV21l9c6xQd_lw' '8JFGBuHMoiNDyfcxuWNtrA']\n",
      "Первые 10 уникальных значений в столбце 'user_id': ['OyoGAe7OKpv6SyGZT5g77Q' '_7bHUi9Uuf5__HHc_Q8guQ'\n",
      " 'bcjbaE6dDog4jkNY91ncLQ' 'eUta8W_HdHMXPzLBBZhL1A'\n",
      " 'r3zeYsv1XFBRA4dJpL78cw' 'yfFzsLmaWF2d4Sr0UNbBgg'\n",
      " '1WHRWwQmZOZDAhp2Qyny4g' 'ZbqSHbgCjzVAqaa7NKWn5A'\n",
      " '9OAtfnWag-ajVxRbUTGIyg' 'smOvOajNG0lS4Pq7d8g4JQ']\n",
      "Первые 10 уникальных значений в столбце 'business_id': ['7ATYjTIgM3jUlt4UM3IypQ' 'kxX2SOes4o-D3ZQBkiMRfA'\n",
      " 'e4Vwtrqf-wpJfwesgvdgxQ' '04UD14gamNjLY0IDYVhHJg'\n",
      " 'gmjsEdUsKpj9Xxu6pdjH0g' 'LHSTtnW3YHCeUkRDGyJOyw'\n",
      " 'uMvVYRgGNXf5boolA9HXTw' 'EQ-TZ2eeD_E0BHuvoaeG5Q'\n",
      " 'lj-E32x9_FA7GmUrBGBEWg' 'RZtGWDLCAtuipwaZ-UfjmQ']\n",
      "Первые 10 уникальных значений в столбце 'stars': [5. 4. 1. 2.]\n",
      "Первые 10 уникальных значений в столбце 'useful': [ 1  0  2  4  3  7 15  5 14  6]\n",
      "Первые 10 уникальных значений в столбце 'funny': [ 0  2  5  1  3  4  6 19  9  7]\n",
      "Первые 10 уникальных значений в столбце 'cool': [1 0 2 3 4 9 5 6 7 8]\n",
      "Первые 10 уникальных значений в столбце 'text': [\"I've taken a lot of spin classes over the years, and nothing compares to the classes at Body Cycle. From the nice, clean space and amazing bikes, to the welcoming and motivating instructors, every class is a top notch work out.\\n\\nFor anyone who struggles to fit workouts in, the online scheduling system makes it easy to plan ahead (and there's no need to line up way in advanced like many gyms make you do).\\n\\nThere is no way I can write this review without giving Russell, the owner of Body Cycle, a shout out. Russell's passion for fitness and cycling is so evident, as is his desire for all of his clients to succeed. He is always dropping in to classes to check in/provide encouragement, and is open to ideas and recommendations from anyone. Russell always wears a smile on his face, even when he's kicking your butt in class!\"\n",
      " \"Wow!  Yummy, different,  delicious.   Our favorite is the lamb curry and korma.  With 10 different kinds of naan!!!  Don't let the outside deter you (because we almost changed our minds)...go in and try something new!   You'll be glad you did!\"\n",
      " \"Cute interior and owner (?) gave us tour of upcoming patio/rooftop area which will be great on beautiful days like today. Cheese curds were very good and very filling. Really like that sandwiches come w salad, esp after eating too many curds! Had the onion, gruyere, tomato sandwich. Wasn't too much cheese which I liked. Needed something else...pepper jelly maybe. Would like to see more menu options added such as salads w fun cheeses. Lots of beer and wine as well as limited cocktails. Next time I will try one of the draft wines.\"\n",
      " \"I am a long term frequent customer of this establishment. I just went in to order take out (3 apps) and was told they're too busy to do it. Really? The place is maybe half full at best. Does your dick reach your ass? Yes? Go fuck yourself! I'm a frequent customer AND great tipper. Glad that Kanella just opened. NEVER going back to dmitris!\"\n",
      " \"Loved this tour! I grabbed a groupon and the price was great. It was the perfect way to explore New Orleans for someone who'd never been there before and didn't know a lot about the history of the city. Our tour guide had tons of interesting tidbits about the city, and I really enjoyed the experience. Highly recommended tour. I actually thought we were just going to tour through the cemetery, but she took us around the French Quarter for the first hour, and the cemetery for the second half of the tour. You'll meet up in front of a grocery store (seems strange at first, but it's not terribly hard to find, and it'll give you a chance to get some water), and you'll stop at a visitor center part way through the tour for a bathroom break if needed. This tour was one of my favorite parts of my trip!\"\n",
      " 'Amazingly amazing wings and homemade bleu cheese. Had the ribeye: tender, perfectly prepared, delicious. Nice selection of craft beers. Would DEFINITELY recommend checking out this hidden gem.'\n",
      " \"My experience with Shalimar was nothing but wonderful. \\nI wanted to get my engagement ring sized and was told over the phone that it could probably be done within the day. \\nWhen I brought it by, the team confirmed that the jeweler would be able to accommodate my same-day request and that it would be around $40 (simple band, decrease by three full sizes).\\nI checked my size one more time, confirmed, and left to let them do their thing.\\nWhen I came to pick up later that afternoon, the ring was too small. It's very important to note that Shalimar sized the ring perfectly, but that I made a mistake and should've gone up a half-size.\\nThe Shalimar group were completely understanding and accommodating, even resizing my ring back up and getting it back to me within an hour at no charge! Even though it was my mistake!\\nThe associates' attitudes in dealing with what was a pretty embarrassing situation instantly earned my satisfaction and loyalty as a customer. Very grateful for such a wonderful experience.\"\n",
      " \"Locals recommended Milktooth, and it's an amazing jewel of Indianapolis. I'm glade I had the chance to experience this.\"\n",
      " \"Love going here for happy hour or dinner!  Great patio with fans to beat the StL heat!   Also...very accomodating at this location.  I like the Veal Milanese but with mixed greens instead of pasta!  they'll modify the menu to suit your taste!\"\n",
      " \"Good food--loved the gnocchi with marinara\\nthe baked eggplant appetizer was very good too\\n\\nThe service was very slow, but despite this, I'd go back, the food is just that good\"]\n",
      "Первые 10 уникальных значений в столбце 'date': ['2012-01-03 15:28:18' '2015-01-04 00:01:03' '2017-01-14 20:54:15'\n",
      " '2015-09-23 23:10:31' '2015-01-03 23:21:18' '2015-08-07 02:29:16'\n",
      " '2015-06-21 14:48:06' '2015-08-19 14:31:45' '2014-06-27 22:44:01'\n",
      " '2009-10-14 19:57:14']\n",
      "Первые 10 уникальных значений в столбце 'label': [1. 0.]\n",
      "Первые 10 уникальных значений в столбце 'cleaned_text': ['ive taken a lot of spin classes over the years and nothing compares to the classes at body cycle from the nice clean space and amazing bikes to the welcoming and motivating instructors every class is a top notch work out\\n\\nfor anyone who struggles to fit workouts in the online scheduling system makes it easy to plan ahead and theres no need to line up way in advanced like many gyms make you do\\n\\nthere is no way i can write this review without giving russell the owner of body cycle a shout out russells passion for fitness and cycling is so evident as is his desire for all of his clients to succeed he is always dropping in to classes to check inprovide encouragement and is open to ideas and recommendations from anyone russell always wears a smile on his face even when hes kicking your butt in class'\n",
      " 'wow  yummy different  delicious   our favorite is the lamb curry and korma  with  different kinds of naan  dont let the outside deter you because we almost changed our mindsgo in and try something new   youll be glad you did'\n",
      " 'cute interior and owner  gave us tour of upcoming patiorooftop area which will be great on beautiful days like today cheese curds were very good and very filling really like that sandwiches come w salad esp after eating too many curds had the onion gruyere tomato sandwich wasnt too much cheese which i liked needed something elsepepper jelly maybe would like to see more menu options added such as salads w fun cheeses lots of beer and wine as well as limited cocktails next time i will try one of the draft wines'\n",
      " 'i am a long term frequent customer of this establishment i just went in to order take out  apps and was told theyre too busy to do it really the place is maybe half full at best does your dick reach your ass yes go fuck yourself im a frequent customer and great tipper glad that kanella just opened never going back to dmitris'\n",
      " 'loved this tour i grabbed a groupon and the price was great it was the perfect way to explore new orleans for someone whod never been there before and didnt know a lot about the history of the city our tour guide had tons of interesting tidbits about the city and i really enjoyed the experience highly recommended tour i actually thought we were just going to tour through the cemetery but she took us around the french quarter for the first hour and the cemetery for the second half of the tour youll meet up in front of a grocery store seems strange at first but its not terribly hard to find and itll give you a chance to get some water and youll stop at a visitor center part way through the tour for a bathroom break if needed this tour was one of my favorite parts of my trip'\n",
      " 'amazingly amazing wings and homemade bleu cheese had the ribeye tender perfectly prepared delicious nice selection of craft beers would definitely recommend checking out this hidden gem'\n",
      " 'my experience with shalimar was nothing but wonderful \\ni wanted to get my engagement ring sized and was told over the phone that it could probably be done within the day \\nwhen i brought it by the team confirmed that the jeweler would be able to accommodate my sameday request and that it would be around  simple band decrease by three full sizes\\ni checked my size one more time confirmed and left to let them do their thing\\nwhen i came to pick up later that afternoon the ring was too small its very important to note that shalimar sized the ring perfectly but that i made a mistake and shouldve gone up a halfsize\\nthe shalimar group were completely understanding and accommodating even resizing my ring back up and getting it back to me within an hour at no charge even though it was my mistake\\nthe associates attitudes in dealing with what was a pretty embarrassing situation instantly earned my satisfaction and loyalty as a customer very grateful for such a wonderful experience'\n",
      " 'locals recommended milktooth and its an amazing jewel of indianapolis im glade i had the chance to experience this'\n",
      " 'love going here for happy hour or dinner  great patio with fans to beat the stl heat   alsovery accomodating at this location  i like the veal milanese but with mixed greens instead of pasta  theyll modify the menu to suit your taste'\n",
      " 'good foodloved the gnocchi with marinara\\nthe baked eggplant appetizer was very good too\\n\\nthe service was very slow but despite this id go back the food is just that good']\n",
      "Первые 10 уникальных значений в столбце 'tokens': [\"['ive', 'taken', 'a', 'lot', 'of', 'spin', 'classes', 'over', 'the', 'years', 'and', 'nothing', 'compares', 'to', 'the', 'classes', 'at', 'body', 'cycle', 'from', 'the', 'nice', 'clean', 'space', 'and', 'amazing', 'bikes', 'to', 'the', 'welcoming', 'and', 'motivating', 'instructors', 'every', 'class', 'is', 'a', 'top', 'notch', 'work', 'out', 'for', 'anyone', 'who', 'struggles', 'to', 'fit', 'workouts', 'in', 'the', 'online', 'scheduling', 'system', 'makes', 'it', 'easy', 'to', 'plan', 'ahead', 'and', 'theres', 'no', 'need', 'to', 'line', 'up', 'way', 'in', 'advanced', 'like', 'many', 'gyms', 'make', 'you', 'do', 'there', 'is', 'no', 'way', 'i', 'can', 'write', 'this', 'review', 'without', 'giving', 'russell', 'the', 'owner', 'of', 'body', 'cycle', 'a', 'shout', 'out', 'russells', 'passion', 'for', 'fitness', 'and', 'cycling', 'is', 'so', 'evident', 'as', 'is', 'his', 'desire', 'for', 'all', 'of', 'his', 'clients', 'to', 'succeed', 'he', 'is', 'always', 'dropping', 'in', 'to', 'classes', 'to', 'check', 'inprovide', 'encouragement', 'and', 'is', 'open', 'to', 'ideas', 'and', 'recommendations', 'from', 'anyone', 'russell', 'always', 'wears', 'a', 'smile', 'on', 'his', 'face', 'even', 'when', 'hes', 'kicking', 'your', 'butt', 'in', 'class']\"\n",
      " \"['wow', 'yummy', 'different', 'delicious', 'our', 'favorite', 'is', 'the', 'lamb', 'curry', 'and', 'korma', 'with', 'different', 'kinds', 'of', 'naan', 'dont', 'let', 'the', 'outside', 'deter', 'you', 'because', 'we', 'almost', 'changed', 'our', 'mindsgo', 'in', 'and', 'try', 'something', 'new', 'youll', 'be', 'glad', 'you', 'did']\"\n",
      " \"['cute', 'interior', 'and', 'owner', 'gave', 'us', 'tour', 'of', 'upcoming', 'patiorooftop', 'area', 'which', 'will', 'be', 'great', 'on', 'beautiful', 'days', 'like', 'today', 'cheese', 'curds', 'were', 'very', 'good', 'and', 'very', 'filling', 'really', 'like', 'that', 'sandwiches', 'come', 'w', 'salad', 'esp', 'after', 'eating', 'too', 'many', 'curds', 'had', 'the', 'onion', 'gruyere', 'tomato', 'sandwich', 'wasnt', 'too', 'much', 'cheese', 'which', 'i', 'liked', 'needed', 'something', 'elsepepper', 'jelly', 'maybe', 'would', 'like', 'to', 'see', 'more', 'menu', 'options', 'added', 'such', 'as', 'salads', 'w', 'fun', 'cheeses', 'lots', 'of', 'beer', 'and', 'wine', 'as', 'well', 'as', 'limited', 'cocktails', 'next', 'time', 'i', 'will', 'try', 'one', 'of', 'the', 'draft', 'wines']\"\n",
      " \"['i', 'am', 'a', 'long', 'term', 'frequent', 'customer', 'of', 'this', 'establishment', 'i', 'just', 'went', 'in', 'to', 'order', 'take', 'out', 'apps', 'and', 'was', 'told', 'theyre', 'too', 'busy', 'to', 'do', 'it', 'really', 'the', 'place', 'is', 'maybe', 'half', 'full', 'at', 'best', 'does', 'your', 'dick', 'reach', 'your', 'ass', 'yes', 'go', 'fuck', 'yourself', 'im', 'a', 'frequent', 'customer', 'and', 'great', 'tipper', 'glad', 'that', 'kanella', 'just', 'opened', 'never', 'going', 'back', 'to', 'dmitris']\"\n",
      " \"['loved', 'this', 'tour', 'i', 'grabbed', 'a', 'groupon', 'and', 'the', 'price', 'was', 'great', 'it', 'was', 'the', 'perfect', 'way', 'to', 'explore', 'new', 'orleans', 'for', 'someone', 'whod', 'never', 'been', 'there', 'before', 'and', 'didnt', 'know', 'a', 'lot', 'about', 'the', 'history', 'of', 'the', 'city', 'our', 'tour', 'guide', 'had', 'tons', 'of', 'interesting', 'tidbits', 'about', 'the', 'city', 'and', 'i', 'really', 'enjoyed', 'the', 'experience', 'highly', 'recommended', 'tour', 'i', 'actually', 'thought', 'we', 'were', 'just', 'going', 'to', 'tour', 'through', 'the', 'cemetery', 'but', 'she', 'took', 'us', 'around', 'the', 'french', 'quarter', 'for', 'the', 'first', 'hour', 'and', 'the', 'cemetery', 'for', 'the', 'second', 'half', 'of', 'the', 'tour', 'youll', 'meet', 'up', 'in', 'front', 'of', 'a', 'grocery', 'store', 'seems', 'strange', 'at', 'first', 'but', 'its', 'not', 'terribly', 'hard', 'to', 'find', 'and', 'itll', 'give', 'you', 'a', 'chance', 'to', 'get', 'some', 'water', 'and', 'youll', 'stop', 'at', 'a', 'visitor', 'center', 'part', 'way', 'through', 'the', 'tour', 'for', 'a', 'bathroom', 'break', 'if', 'needed', 'this', 'tour', 'was', 'one', 'of', 'my', 'favorite', 'parts', 'of', 'my', 'trip']\"\n",
      " \"['amazingly', 'amazing', 'wings', 'and', 'homemade', 'bleu', 'cheese', 'had', 'the', 'ribeye', 'tender', 'perfectly', 'prepared', 'delicious', 'nice', 'selection', 'of', 'craft', 'beers', 'would', 'definitely', 'recommend', 'checking', 'out', 'this', 'hidden', 'gem']\"\n",
      " \"['my', 'experience', 'with', 'shalimar', 'was', 'nothing', 'but', 'wonderful', 'i', 'wanted', 'to', 'get', 'my', 'engagement', 'ring', 'sized', 'and', 'was', 'told', 'over', 'the', 'phone', 'that', 'it', 'could', 'probably', 'be', 'done', 'within', 'the', 'day', 'when', 'i', 'brought', 'it', 'by', 'the', 'team', 'confirmed', 'that', 'the', 'jeweler', 'would', 'be', 'able', 'to', 'accommodate', 'my', 'sameday', 'request', 'and', 'that', 'it', 'would', 'be', 'around', 'simple', 'band', 'decrease', 'by', 'three', 'full', 'sizes', 'i', 'checked', 'my', 'size', 'one', 'more', 'time', 'confirmed', 'and', 'left', 'to', 'let', 'them', 'do', 'their', 'thing', 'when', 'i', 'came', 'to', 'pick', 'up', 'later', 'that', 'afternoon', 'the', 'ring', 'was', 'too', 'small', 'its', 'very', 'important', 'to', 'note', 'that', 'shalimar', 'sized', 'the', 'ring', 'perfectly', 'but', 'that', 'i', 'made', 'a', 'mistake', 'and', 'shouldve', 'gone', 'up', 'a', 'halfsize', 'the', 'shalimar', 'group', 'were', 'completely', 'understanding', 'and', 'accommodating', 'even', 'resizing', 'my', 'ring', 'back', 'up', 'and', 'getting', 'it', 'back', 'to', 'me', 'within', 'an', 'hour', 'at', 'no', 'charge', 'even', 'though', 'it', 'was', 'my', 'mistake', 'the', 'associates', 'attitudes', 'in', 'dealing', 'with', 'what', 'was', 'a', 'pretty', 'embarrassing', 'situation', 'instantly', 'earned', 'my', 'satisfaction', 'and', 'loyalty', 'as', 'a', 'customer', 'very', 'grateful', 'for', 'such', 'a', 'wonderful', 'experience']\"\n",
      " \"['locals', 'recommended', 'milktooth', 'and', 'its', 'an', 'amazing', 'jewel', 'of', 'indianapolis', 'im', 'glade', 'i', 'had', 'the', 'chance', 'to', 'experience', 'this']\"\n",
      " \"['love', 'going', 'here', 'for', 'happy', 'hour', 'or', 'dinner', 'great', 'patio', 'with', 'fans', 'to', 'beat', 'the', 'stl', 'heat', 'alsovery', 'accomodating', 'at', 'this', 'location', 'i', 'like', 'the', 'veal', 'milanese', 'but', 'with', 'mixed', 'greens', 'instead', 'of', 'pasta', 'theyll', 'modify', 'the', 'menu', 'to', 'suit', 'your', 'taste']\"\n",
      " \"['good', 'foodloved', 'the', 'gnocchi', 'with', 'marinara', 'the', 'baked', 'eggplant', 'appetizer', 'was', 'very', 'good', 'too', 'the', 'service', 'was', 'very', 'slow', 'but', 'despite', 'this', 'id', 'go', 'back', 'the', 'food', 'is', 'just', 'that', 'good']\"]\n",
      "Первые 10 уникальных значений в столбце 'processed_tokens': [\"['ive', 'taken', 'lot', 'spin', 'class', 'year', 'nothing', 'compare', 'class', 'body', 'cycle', 'nice', 'clean', 'space', 'amazing', 'bike', 'welcoming', 'motivating', 'instructor', 'every', 'class', 'top', 'notch', 'work', 'anyone', 'struggle', 'fit', 'workout', 'online', 'scheduling', 'system', 'make', 'easy', 'plan', 'ahead', 'there', 'need', 'line', 'way', 'advanced', 'like', 'many', 'gym', 'make', 'way', 'write', 'review', 'without', 'giving', 'russell', 'owner', 'body', 'cycle', 'shout', 'russell', 'passion', 'fitness', 'cycling', 'evident', 'desire', 'client', 'succeed', 'always', 'dropping', 'class', 'check', 'inprovide', 'encouragement', 'open', 'idea', 'recommendation', 'anyone', 'russell', 'always', 'wear', 'smile', 'face', 'even', 'he', 'kicking', 'butt', 'class']\"\n",
      " \"['wow', 'yummy', 'different', 'delicious', 'favorite', 'lamb', 'curry', 'korma', 'different', 'kind', 'naan', 'dont', 'let', 'outside', 'deter', 'almost', 'changed', 'mindsgo', 'try', 'something', 'new', 'youll', 'glad']\"\n",
      " \"['cute', 'interior', 'owner', 'gave', 'u', 'tour', 'upcoming', 'patiorooftop', 'area', 'great', 'beautiful', 'day', 'like', 'today', 'cheese', 'curd', 'good', 'filling', 'really', 'like', 'sandwich', 'come', 'w', 'salad', 'esp', 'eating', 'many', 'curd', 'onion', 'gruyere', 'tomato', 'sandwich', 'wasnt', 'much', 'cheese', 'liked', 'needed', 'something', 'elsepepper', 'jelly', 'maybe', 'would', 'like', 'see', 'menu', 'option', 'added', 'salad', 'w', 'fun', 'cheese', 'lot', 'beer', 'wine', 'well', 'limited', 'cocktail', 'next', 'time', 'try', 'one', 'draft', 'wine']\"\n",
      " \"['long', 'term', 'frequent', 'customer', 'establishment', 'went', 'order', 'take', 'apps', 'told', 'theyre', 'busy', 'really', 'place', 'maybe', 'half', 'full', 'best', 'dick', 'reach', 'as', 'yes', 'go', 'fuck', 'im', 'frequent', 'customer', 'great', 'tipper', 'glad', 'kanella', 'opened', 'never', 'going', 'back', 'dmitris']\"\n",
      " \"['loved', 'tour', 'grabbed', 'groupon', 'price', 'great', 'perfect', 'way', 'explore', 'new', 'orleans', 'someone', 'whod', 'never', 'didnt', 'know', 'lot', 'history', 'city', 'tour', 'guide', 'ton', 'interesting', 'tidbit', 'city', 'really', 'enjoyed', 'experience', 'highly', 'recommended', 'tour', 'actually', 'thought', 'going', 'tour', 'cemetery', 'took', 'u', 'around', 'french', 'quarter', 'first', 'hour', 'cemetery', 'second', 'half', 'tour', 'youll', 'meet', 'front', 'grocery', 'store', 'seems', 'strange', 'first', 'terribly', 'hard', 'find', 'itll', 'give', 'chance', 'get', 'water', 'youll', 'stop', 'visitor', 'center', 'part', 'way', 'tour', 'bathroom', 'break', 'needed', 'tour', 'one', 'favorite', 'part', 'trip']\"\n",
      " \"['amazingly', 'amazing', 'wing', 'homemade', 'bleu', 'cheese', 'ribeye', 'tender', 'perfectly', 'prepared', 'delicious', 'nice', 'selection', 'craft', 'beer', 'would', 'definitely', 'recommend', 'checking', 'hidden', 'gem']\"\n",
      " \"['experience', 'shalimar', 'nothing', 'wonderful', 'wanted', 'get', 'engagement', 'ring', 'sized', 'told', 'phone', 'could', 'probably', 'done', 'within', 'day', 'brought', 'team', 'confirmed', 'jeweler', 'would', 'able', 'accommodate', 'sameday', 'request', 'would', 'around', 'simple', 'band', 'decrease', 'three', 'full', 'size', 'checked', 'size', 'one', 'time', 'confirmed', 'left', 'let', 'thing', 'came', 'pick', 'later', 'afternoon', 'ring', 'small', 'important', 'note', 'shalimar', 'sized', 'ring', 'perfectly', 'made', 'mistake', 'shouldve', 'gone', 'halfsize', 'shalimar', 'group', 'completely', 'understanding', 'accommodating', 'even', 'resizing', 'ring', 'back', 'getting', 'back', 'within', 'hour', 'charge', 'even', 'though', 'mistake', 'associate', 'attitude', 'dealing', 'pretty', 'embarrassing', 'situation', 'instantly', 'earned', 'satisfaction', 'loyalty', 'customer', 'grateful', 'wonderful', 'experience']\"\n",
      " \"['local', 'recommended', 'milktooth', 'amazing', 'jewel', 'indianapolis', 'im', 'glade', 'chance', 'experience']\"\n",
      " \"['love', 'going', 'happy', 'hour', 'dinner', 'great', 'patio', 'fan', 'beat', 'stl', 'heat', 'alsovery', 'accomodating', 'location', 'like', 'veal', 'milanese', 'mixed', 'green', 'instead', 'pasta', 'theyll', 'modify', 'menu', 'suit', 'taste']\"\n",
      " \"['good', 'foodloved', 'gnocchi', 'marinara', 'baked', 'eggplant', 'appetizer', 'good', 'service', 'slow', 'despite', 'id', 'go', 'back', 'food', 'good']\"]\n"
     ]
    }
   ],
   "source": [
    "# Вывод первых 10 уникальных значений по каждому столбцу\n",
    "for column in df01.columns:\n",
    "    unique_values = df01[column].unique()[:10]\n",
    "    print(f\"Первые 10 уникальных значений в столбце '{column}': {unique_values}\")\n"
   ]
  },
  {
   "cell_type": "markdown",
   "metadata": {},
   "source": [
    "#### Описание столбцов"
   ]
  },
  {
   "cell_type": "markdown",
   "metadata": {},
   "source": [
    "1. review_id   = идентифицировать каждый отзыв\n",
    "2. user_id     = идентификаторы пользователей\n",
    "3. business_id = идентификаторы бизнесов (ресторанов, кафе и т.д.)\n",
    "4. stars       = оценка бизнеса, ресторана и т.д.\n",
    "5. useful      = количество пользователей, которые посчитали данный отзыв полезным\n",
    "6. funny       = сколько раз другие пользователи отметили данный отзыв как забавный \"funny\" (смешно)\n",
    "7. cool        = сколько пользователей посчитали данный отзыв \"крутым\"\n",
    "8. text        = текст, в котором пользователь выражает свое мнение о бизнесе\n",
    "9. date        = дата, когда отзыв был оставлен\n",
    "\n",
    "новые столбцы\n",
    "\n",
    "10. cleaned_text     = текст отзыва после предобработки\n",
    "11. tokens           = токены, полученные из очищенного текста\n",
    "12. processed_tokens = токены, очищенные от стоп-слов и приведенные к базовой форме (лемматизация)\n",
    "13. label            = бинарная метка, указывающая на позитивный (1) или негативный (0) отзыв, основанная на количестве звезд (4 и 5 звезды - позитивные, 1 и 2 звезды - негативные)\n"
   ]
  },
  {
   "cell_type": "code",
   "execution_count": 26,
   "metadata": {},
   "outputs": [],
   "source": [
    "# # Разделение данных на обучающую и тестовую выборки\n",
    "# X = df01['cleaned_text']\n",
    "# y = df['label']"
   ]
  },
  {
   "cell_type": "code",
   "execution_count": 59,
   "metadata": {},
   "outputs": [],
   "source": [
    "# Оставляем только необходимые столбцы\n",
    "df01 = df01[['processed_tokens', 'label']]"
   ]
  },
  {
   "cell_type": "code",
   "execution_count": 60,
   "metadata": {},
   "outputs": [
    {
     "data": {
      "text/html": [
       "<div>\n",
       "<style scoped>\n",
       "    .dataframe tbody tr th:only-of-type {\n",
       "        vertical-align: middle;\n",
       "    }\n",
       "\n",
       "    .dataframe tbody tr th {\n",
       "        vertical-align: top;\n",
       "    }\n",
       "\n",
       "    .dataframe thead th {\n",
       "        text-align: right;\n",
       "    }\n",
       "</style>\n",
       "<table border=\"1\" class=\"dataframe\">\n",
       "  <thead>\n",
       "    <tr style=\"text-align: right;\">\n",
       "      <th></th>\n",
       "      <th>processed_tokens</th>\n",
       "      <th>label</th>\n",
       "    </tr>\n",
       "  </thead>\n",
       "  <tbody>\n",
       "    <tr>\n",
       "      <th>0</th>\n",
       "      <td>['ive', 'taken', 'lot', 'spin', 'class', 'year...</td>\n",
       "      <td>1.0</td>\n",
       "    </tr>\n",
       "    <tr>\n",
       "      <th>1</th>\n",
       "      <td>['wow', 'yummy', 'different', 'delicious', 'fa...</td>\n",
       "      <td>1.0</td>\n",
       "    </tr>\n",
       "    <tr>\n",
       "      <th>2</th>\n",
       "      <td>['cute', 'interior', 'owner', 'gave', 'u', 'to...</td>\n",
       "      <td>1.0</td>\n",
       "    </tr>\n",
       "    <tr>\n",
       "      <th>3</th>\n",
       "      <td>['long', 'term', 'frequent', 'customer', 'esta...</td>\n",
       "      <td>0.0</td>\n",
       "    </tr>\n",
       "    <tr>\n",
       "      <th>4</th>\n",
       "      <td>['loved', 'tour', 'grabbed', 'groupon', 'price...</td>\n",
       "      <td>1.0</td>\n",
       "    </tr>\n",
       "    <tr>\n",
       "      <th>...</th>\n",
       "      <td>...</td>\n",
       "      <td>...</td>\n",
       "    </tr>\n",
       "    <tr>\n",
       "      <th>6298341</th>\n",
       "      <td>['good', 'maybe', 'good', 'went', 'lunch', 'he...</td>\n",
       "      <td>1.0</td>\n",
       "    </tr>\n",
       "    <tr>\n",
       "      <th>6298342</th>\n",
       "      <td>['latest', 'addition', 'service', 'iccu', 'app...</td>\n",
       "      <td>1.0</td>\n",
       "    </tr>\n",
       "    <tr>\n",
       "      <th>6298343</th>\n",
       "      <td>['spot', 'offer', 'great', 'affordable', 'east...</td>\n",
       "      <td>1.0</td>\n",
       "    </tr>\n",
       "    <tr>\n",
       "      <th>6298344</th>\n",
       "      <td>['home', 'depot', 'needed', 'get', 'lot', 'dem...</td>\n",
       "      <td>1.0</td>\n",
       "    </tr>\n",
       "    <tr>\n",
       "      <th>6298345</th>\n",
       "      <td>['im', 'feeling', 'like', 'ignoring', 'calorie...</td>\n",
       "      <td>1.0</td>\n",
       "    </tr>\n",
       "  </tbody>\n",
       "</table>\n",
       "<p>6298346 rows × 2 columns</p>\n",
       "</div>"
      ],
      "text/plain": [
       "                                          processed_tokens  label\n",
       "0        ['ive', 'taken', 'lot', 'spin', 'class', 'year...    1.0\n",
       "1        ['wow', 'yummy', 'different', 'delicious', 'fa...    1.0\n",
       "2        ['cute', 'interior', 'owner', 'gave', 'u', 'to...    1.0\n",
       "3        ['long', 'term', 'frequent', 'customer', 'esta...    0.0\n",
       "4        ['loved', 'tour', 'grabbed', 'groupon', 'price...    1.0\n",
       "...                                                    ...    ...\n",
       "6298341  ['good', 'maybe', 'good', 'went', 'lunch', 'he...    1.0\n",
       "6298342  ['latest', 'addition', 'service', 'iccu', 'app...    1.0\n",
       "6298343  ['spot', 'offer', 'great', 'affordable', 'east...    1.0\n",
       "6298344  ['home', 'depot', 'needed', 'get', 'lot', 'dem...    1.0\n",
       "6298345  ['im', 'feeling', 'like', 'ignoring', 'calorie...    1.0\n",
       "\n",
       "[6298346 rows x 2 columns]"
      ]
     },
     "execution_count": 60,
     "metadata": {},
     "output_type": "execute_result"
    }
   ],
   "source": [
    "df01"
   ]
  },
  {
   "cell_type": "code",
   "execution_count": 61,
   "metadata": {},
   "outputs": [],
   "source": [
    "# Разделение на позитивные и негативные отзывы\n",
    "positive_reviews = df01[df01['label'] == 1]\n",
    "negative_reviews = df01[df01['label'] == 0]"
   ]
  },
  {
   "cell_type": "code",
   "execution_count": 71,
   "metadata": {},
   "outputs": [],
   "source": [
    "# Функция для сохранения датасетов\n",
    "def save_datasets(positive, negative, filename, size=None):\n",
    "    if size is None:\n",
    "        size = min(len(positive), len(negative))\n",
    "    df_new = pd.concat([positive.head(size), negative.head(size)])\n",
    "    df_new = shuffle(df_new)\n",
    "    df_new.to_csv(filename, index=False)\n",
    "    print(f\"Файл {filename} сохранен с {len(df_new)} записями (позитивные и негативные).\")"
   ]
  },
  {
   "cell_type": "code",
   "execution_count": 72,
   "metadata": {},
   "outputs": [
    {
     "name": "stdout",
     "output_type": "stream",
     "text": [
      "Файл dfnew10000.csv сохранен с 20000 записями (позитивные и негативные).\n",
      "Файл dfnew100000.csv сохранен с 200000 записями (позитивные и негативные).\n",
      "Файл dfnew1000000.csv сохранен с 2000000 записями (позитивные и негативные).\n"
     ]
    }
   ],
   "source": [
    "# Сохранение датасетов с определенным количеством записей\n",
    "save_datasets(positive_reviews, negative_reviews, 'dfnew10000.csv', 10000)\n",
    "save_datasets(positive_reviews, negative_reviews, 'dfnew100000.csv', 100000)\n",
    "save_datasets(positive_reviews, negative_reviews, 'dfnew1000000.csv', 1000000)"
   ]
  },
  {
   "cell_type": "code",
   "execution_count": 70,
   "metadata": {},
   "outputs": [
    {
     "name": "stdout",
     "output_type": "stream",
     "text": [
      "Файл dfnewall.csv сохранен с 6298346 записями.\n",
      "Количество позитивных отзывов: 4684545\n",
      "Количество негативных отзывов: 1613801\n"
     ]
    }
   ],
   "source": [
    "# Сохранение всех записей\n",
    "df_all = pd.concat([positive_reviews, negative_reviews])\n",
    "df_all = shuffle(df_all)\n",
    "df_all.to_csv('dfnewall.csv', index=False)\n",
    "print(f\"Файл dfnewall.csv сохранен с {len(df_all)} записями.\")\n",
    "print(f\"Количество позитивных отзывов: {len(positive_reviews)}\")\n",
    "print(f\"Количество негативных отзывов: {len(negative_reviews)}\")"
   ]
  },
  {
   "cell_type": "markdown",
   "metadata": {},
   "source": [
    "## 2. Модель классификации текстов на 100 тыс. положительных и 100 тыс. отрицательных отзывах"
   ]
  },
  {
   "cell_type": "markdown",
   "metadata": {},
   "source": [
    "### 2.1. Импорт библиотек и подготовка данных"
   ]
  },
  {
   "cell_type": "code",
   "execution_count": 16,
   "metadata": {},
   "outputs": [
    {
     "name": "stdout",
     "output_type": "stream",
     "text": [
      "Collecting transformers\n",
      "  Downloading transformers-4.43.1-py3-none-any.whl.metadata (43 kB)\n",
      "     ---------------------------------------- 0.0/43.7 kB ? eta -:--:--\n",
      "     ---------------------------------------- 43.7/43.7 kB 2.1 MB/s eta 0:00:00\n",
      "Requirement already satisfied: filelock in c:\\users\\akhim\\appdata\\local\\programs\\python\\python312\\lib\\site-packages (from transformers) (3.13.4)\n",
      "Collecting huggingface-hub<1.0,>=0.23.2 (from transformers)\n",
      "  Downloading huggingface_hub-0.24.1-py3-none-any.whl.metadata (13 kB)\n",
      "Requirement already satisfied: numpy>=1.17 in c:\\users\\akhim\\appdata\\local\\programs\\python\\python312\\lib\\site-packages (from transformers) (1.26.2)\n",
      "Requirement already satisfied: packaging>=20.0 in c:\\users\\akhim\\appdata\\local\\programs\\python\\python312\\lib\\site-packages (from transformers) (23.2)\n",
      "Requirement already satisfied: pyyaml>=5.1 in c:\\users\\akhim\\appdata\\local\\programs\\python\\python312\\lib\\site-packages (from transformers) (6.0.1)\n",
      "Requirement already satisfied: regex!=2019.12.17 in c:\\users\\akhim\\appdata\\local\\programs\\python\\python312\\lib\\site-packages (from transformers) (2024.5.15)\n",
      "Requirement already satisfied: requests in c:\\users\\akhim\\appdata\\local\\programs\\python\\python312\\lib\\site-packages (from transformers) (2.31.0)\n",
      "Collecting tokenizers<0.20,>=0.19 (from transformers)\n",
      "  Downloading tokenizers-0.19.1-cp312-none-win_amd64.whl.metadata (6.9 kB)\n",
      "Collecting safetensors>=0.4.1 (from transformers)\n",
      "  Downloading safetensors-0.4.3-cp312-none-win_amd64.whl.metadata (3.9 kB)\n",
      "Requirement already satisfied: tqdm>=4.27 in c:\\users\\akhim\\appdata\\local\\programs\\python\\python312\\lib\\site-packages (from transformers) (4.66.2)\n",
      "Requirement already satisfied: fsspec>=2023.5.0 in c:\\users\\akhim\\appdata\\local\\programs\\python\\python312\\lib\\site-packages (from huggingface-hub<1.0,>=0.23.2->transformers) (2024.3.1)\n",
      "Requirement already satisfied: typing-extensions>=3.7.4.3 in c:\\users\\akhim\\appdata\\local\\programs\\python\\python312\\lib\\site-packages (from huggingface-hub<1.0,>=0.23.2->transformers) (4.10.0)\n",
      "Requirement already satisfied: colorama in c:\\users\\akhim\\appdata\\local\\programs\\python\\python312\\lib\\site-packages (from tqdm>=4.27->transformers) (0.4.6)\n",
      "Requirement already satisfied: charset-normalizer<4,>=2 in c:\\users\\akhim\\appdata\\local\\programs\\python\\python312\\lib\\site-packages (from requests->transformers) (3.3.2)\n",
      "Requirement already satisfied: idna<4,>=2.5 in c:\\users\\akhim\\appdata\\local\\programs\\python\\python312\\lib\\site-packages (from requests->transformers) (2.10)\n",
      "Requirement already satisfied: urllib3<3,>=1.21.1 in c:\\users\\akhim\\appdata\\local\\programs\\python\\python312\\lib\\site-packages (from requests->transformers) (2.1.0)\n",
      "Requirement already satisfied: certifi>=2017.4.17 in c:\\users\\akhim\\appdata\\local\\programs\\python\\python312\\lib\\site-packages (from requests->transformers) (2023.11.17)\n",
      "Downloading transformers-4.43.1-py3-none-any.whl (9.4 MB)\n",
      "   ---------------------------------------- 0.0/9.4 MB ? eta -:--:--\n",
      "   - -------------------------------------- 0.3/9.4 MB 10.6 MB/s eta 0:00:01\n",
      "   --- ------------------------------------ 0.8/9.4 MB 12.2 MB/s eta 0:00:01\n",
      "   ----- ---------------------------------- 1.4/9.4 MB 12.6 MB/s eta 0:00:01\n",
      "   -------- ------------------------------- 2.0/9.4 MB 11.5 MB/s eta 0:00:01\n",
      "   ---------- ----------------------------- 2.5/9.4 MB 11.5 MB/s eta 0:00:01\n",
      "   ------------- -------------------------- 3.1/9.4 MB 11.6 MB/s eta 0:00:01\n",
      "   --------------- ------------------------ 3.6/9.4 MB 11.6 MB/s eta 0:00:01\n",
      "   ----------------- ---------------------- 4.2/9.4 MB 11.6 MB/s eta 0:00:01\n",
      "   -------------------- ------------------- 4.8/9.4 MB 11.7 MB/s eta 0:00:01\n",
      "   ---------------------- ----------------- 5.3/9.4 MB 11.7 MB/s eta 0:00:01\n",
      "   ------------------------ --------------- 5.8/9.4 MB 11.7 MB/s eta 0:00:01\n",
      "   --------------------------- ------------ 6.4/9.4 MB 11.7 MB/s eta 0:00:01\n",
      "   ----------------------------- ---------- 6.9/9.4 MB 12.0 MB/s eta 0:00:01\n",
      "   ------------------------------- -------- 7.5/9.4 MB 11.7 MB/s eta 0:00:01\n",
      "   ---------------------------------- ----- 8.1/9.4 MB 11.7 MB/s eta 0:00:01\n",
      "   ------------------------------------ --- 8.6/9.4 MB 11.7 MB/s eta 0:00:01\n",
      "   -------------------------------------- - 9.1/9.4 MB 11.6 MB/s eta 0:00:01\n",
      "   ---------------------------------------  9.4/9.4 MB 11.8 MB/s eta 0:00:01\n",
      "   ---------------------------------------- 9.4/9.4 MB 11.4 MB/s eta 0:00:00\n",
      "Downloading huggingface_hub-0.24.1-py3-none-any.whl (417 kB)\n",
      "   ---------------------------------------- 0.0/417.2 kB ? eta -:--:--\n",
      "   --------------------------------------- 417.2/417.2 kB 13.1 MB/s eta 0:00:00\n",
      "Downloading safetensors-0.4.3-cp312-none-win_amd64.whl (289 kB)\n",
      "   ---------------------------------------- 0.0/289.4 kB ? eta -:--:--\n",
      "   ---------------------------------------- 289.4/289.4 kB 8.7 MB/s eta 0:00:00\n",
      "Downloading tokenizers-0.19.1-cp312-none-win_amd64.whl (2.2 MB)\n",
      "   ---------------------------------------- 0.0/2.2 MB ? eta -:--:--\n",
      "   --------- ------------------------------ 0.5/2.2 MB 17.2 MB/s eta 0:00:01\n",
      "   ------------------- -------------------- 1.1/2.2 MB 13.7 MB/s eta 0:00:01\n",
      "   ----------------------------- ---------- 1.6/2.2 MB 12.9 MB/s eta 0:00:01\n",
      "   ---------------------------------------  2.2/2.2 MB 12.6 MB/s eta 0:00:01\n",
      "   ---------------------------------------- 2.2/2.2 MB 11.8 MB/s eta 0:00:00\n",
      "Installing collected packages: safetensors, huggingface-hub, tokenizers, transformers\n",
      "Successfully installed huggingface-hub-0.24.1 safetensors-0.4.3 tokenizers-0.19.1 transformers-4.43.1\n",
      "Note: you may need to restart the kernel to use updated packages.\n"
     ]
    }
   ],
   "source": [
    "# pip install transformers\n"
   ]
  },
  {
   "cell_type": "code",
   "execution_count": 2,
   "metadata": {},
   "outputs": [
    {
     "name": "stdout",
     "output_type": "stream",
     "text": [
      "Collecting ipywidgets\n",
      "  Downloading ipywidgets-8.1.3-py3-none-any.whl.metadata (2.4 kB)\n",
      "Requirement already satisfied: comm>=0.1.3 in c:\\users\\akhim\\appdata\\local\\programs\\python\\python312\\lib\\site-packages (from ipywidgets) (0.2.0)\n",
      "Requirement already satisfied: ipython>=6.1.0 in c:\\users\\akhim\\appdata\\local\\programs\\python\\python312\\lib\\site-packages (from ipywidgets) (8.18.1)\n",
      "Requirement already satisfied: traitlets>=4.3.1 in c:\\users\\akhim\\appdata\\local\\programs\\python\\python312\\lib\\site-packages (from ipywidgets) (5.14.0)\n",
      "Collecting widgetsnbextension~=4.0.11 (from ipywidgets)\n",
      "  Downloading widgetsnbextension-4.0.11-py3-none-any.whl.metadata (1.6 kB)\n",
      "Collecting jupyterlab-widgets~=3.0.11 (from ipywidgets)\n",
      "  Downloading jupyterlab_widgets-3.0.11-py3-none-any.whl.metadata (4.1 kB)\n",
      "Requirement already satisfied: decorator in c:\\users\\akhim\\appdata\\local\\programs\\python\\python312\\lib\\site-packages (from ipython>=6.1.0->ipywidgets) (5.1.1)\n",
      "Requirement already satisfied: jedi>=0.16 in c:\\users\\akhim\\appdata\\local\\programs\\python\\python312\\lib\\site-packages (from ipython>=6.1.0->ipywidgets) (0.19.1)\n",
      "Requirement already satisfied: matplotlib-inline in c:\\users\\akhim\\appdata\\local\\programs\\python\\python312\\lib\\site-packages (from ipython>=6.1.0->ipywidgets) (0.1.6)\n",
      "Requirement already satisfied: prompt-toolkit<3.1.0,>=3.0.41 in c:\\users\\akhim\\appdata\\local\\programs\\python\\python312\\lib\\site-packages (from ipython>=6.1.0->ipywidgets) (3.0.43)\n",
      "Requirement already satisfied: pygments>=2.4.0 in c:\\users\\akhim\\appdata\\local\\programs\\python\\python312\\lib\\site-packages (from ipython>=6.1.0->ipywidgets) (2.17.2)\n",
      "Requirement already satisfied: stack-data in c:\\users\\akhim\\appdata\\local\\programs\\python\\python312\\lib\\site-packages (from ipython>=6.1.0->ipywidgets) (0.6.3)\n",
      "Requirement already satisfied: colorama in c:\\users\\akhim\\appdata\\local\\programs\\python\\python312\\lib\\site-packages (from ipython>=6.1.0->ipywidgets) (0.4.6)\n",
      "Requirement already satisfied: parso<0.9.0,>=0.8.3 in c:\\users\\akhim\\appdata\\local\\programs\\python\\python312\\lib\\site-packages (from jedi>=0.16->ipython>=6.1.0->ipywidgets) (0.8.3)\n",
      "Requirement already satisfied: wcwidth in c:\\users\\akhim\\appdata\\local\\programs\\python\\python312\\lib\\site-packages (from prompt-toolkit<3.1.0,>=3.0.41->ipython>=6.1.0->ipywidgets) (0.2.12)\n",
      "Requirement already satisfied: executing>=1.2.0 in c:\\users\\akhim\\appdata\\local\\programs\\python\\python312\\lib\\site-packages (from stack-data->ipython>=6.1.0->ipywidgets) (2.0.1)\n",
      "Requirement already satisfied: asttokens>=2.1.0 in c:\\users\\akhim\\appdata\\local\\programs\\python\\python312\\lib\\site-packages (from stack-data->ipython>=6.1.0->ipywidgets) (2.4.1)\n",
      "Requirement already satisfied: pure-eval in c:\\users\\akhim\\appdata\\local\\programs\\python\\python312\\lib\\site-packages (from stack-data->ipython>=6.1.0->ipywidgets) (0.2.2)\n",
      "Requirement already satisfied: six>=1.12.0 in c:\\users\\akhim\\appdata\\local\\programs\\python\\python312\\lib\\site-packages (from asttokens>=2.1.0->stack-data->ipython>=6.1.0->ipywidgets) (1.16.0)\n",
      "Downloading ipywidgets-8.1.3-py3-none-any.whl (139 kB)\n",
      "   ---------------------------------------- 0.0/139.4 kB ? eta -:--:--\n",
      "   ---------------------------------------- 139.4/139.4 kB 4.2 MB/s eta 0:00:00\n",
      "Downloading jupyterlab_widgets-3.0.11-py3-none-any.whl (214 kB)\n",
      "   ---------------------------------------- 0.0/214.4 kB ? eta -:--:--\n",
      "   --------------------------------------- 214.4/214.4 kB 13.6 MB/s eta 0:00:00\n",
      "Downloading widgetsnbextension-4.0.11-py3-none-any.whl (2.3 MB)\n",
      "   ---------------------------------------- 0.0/2.3 MB ? eta -:--:--\n",
      "   ----------- ---------------------------- 0.7/2.3 MB 14.7 MB/s eta 0:00:01\n",
      "   -------------------- ------------------- 1.2/2.3 MB 13.0 MB/s eta 0:00:01\n",
      "   ------------------------------ --------- 1.8/2.3 MB 12.5 MB/s eta 0:00:01\n",
      "   ---------------------------------------  2.3/2.3 MB 12.3 MB/s eta 0:00:01\n",
      "   ---------------------------------------- 2.3/2.3 MB 12.4 MB/s eta 0:00:00\n",
      "Installing collected packages: widgetsnbextension, jupyterlab-widgets, ipywidgets\n",
      "Successfully installed ipywidgets-8.1.3 jupyterlab-widgets-3.0.11 widgetsnbextension-4.0.11\n",
      "Note: you may need to restart the kernel to use updated packages.\n"
     ]
    }
   ],
   "source": [
    "# pip install ipywidgets\n"
   ]
  },
  {
   "cell_type": "code",
   "execution_count": 2,
   "metadata": {},
   "outputs": [
    {
     "name": "stdout",
     "output_type": "stream",
     "text": [
      "WARNING:tensorflow:From c:\\Users\\akhim\\AppData\\Local\\Programs\\Python\\Python312\\Lib\\site-packages\\tf_keras\\src\\losses.py:2976: The name tf.losses.sparse_softmax_cross_entropy is deprecated. Please use tf.compat.v1.losses.sparse_softmax_cross_entropy instead.\n",
      "\n"
     ]
    }
   ],
   "source": [
    "import pandas as pd\n",
    "from sklearn.model_selection import train_test_split\n",
    "from transformers import BertTokenizer, TFBertForSequenceClassification\n",
    "import tensorflow as tf"
   ]
  },
  {
   "cell_type": "code",
   "execution_count": 3,
   "metadata": {},
   "outputs": [],
   "source": [
    "# Загрузка предобработанных данных\n",
    "dfnew100000 = pd.read_csv('./DataSet/dfnew100000.csv')"
   ]
  },
  {
   "cell_type": "code",
   "execution_count": 4,
   "metadata": {},
   "outputs": [
    {
     "data": {
      "text/html": [
       "<div>\n",
       "<style scoped>\n",
       "    .dataframe tbody tr th:only-of-type {\n",
       "        vertical-align: middle;\n",
       "    }\n",
       "\n",
       "    .dataframe tbody tr th {\n",
       "        vertical-align: top;\n",
       "    }\n",
       "\n",
       "    .dataframe thead th {\n",
       "        text-align: right;\n",
       "    }\n",
       "</style>\n",
       "<table border=\"1\" class=\"dataframe\">\n",
       "  <thead>\n",
       "    <tr style=\"text-align: right;\">\n",
       "      <th></th>\n",
       "      <th>processed_tokens</th>\n",
       "      <th>label</th>\n",
       "    </tr>\n",
       "  </thead>\n",
       "  <tbody>\n",
       "    <tr>\n",
       "      <th>0</th>\n",
       "      <td>['came', 'whim', 'night', 'really', 'loved', '...</td>\n",
       "      <td>1.0</td>\n",
       "    </tr>\n",
       "    <tr>\n",
       "      <th>1</th>\n",
       "      <td>['food', 'average', 'nothing', 'bad', 'nothing...</td>\n",
       "      <td>0.0</td>\n",
       "    </tr>\n",
       "    <tr>\n",
       "      <th>2</th>\n",
       "      <td>['im', 'sure', 'great', 'work', 'car', 'front'...</td>\n",
       "      <td>0.0</td>\n",
       "    </tr>\n",
       "    <tr>\n",
       "      <th>3</th>\n",
       "      <td>['th', 'pharmacist', 'pollac', 'location', 'al...</td>\n",
       "      <td>0.0</td>\n",
       "    </tr>\n",
       "    <tr>\n",
       "      <th>4</th>\n",
       "      <td>['although', 'read', 'yelp', 'review', 'often'...</td>\n",
       "      <td>1.0</td>\n",
       "    </tr>\n",
       "    <tr>\n",
       "      <th>...</th>\n",
       "      <td>...</td>\n",
       "      <td>...</td>\n",
       "    </tr>\n",
       "    <tr>\n",
       "      <th>199995</th>\n",
       "      <td>['highvolume', 'dealership', 'enough', 'effort...</td>\n",
       "      <td>0.0</td>\n",
       "    </tr>\n",
       "    <tr>\n",
       "      <th>199996</th>\n",
       "      <td>['finally', 'got', 'chance', 'try', 'place', '...</td>\n",
       "      <td>1.0</td>\n",
       "    </tr>\n",
       "    <tr>\n",
       "      <th>199997</th>\n",
       "      <td>['indian', 'restaurant', 'ive', 'searching', '...</td>\n",
       "      <td>1.0</td>\n",
       "    </tr>\n",
       "    <tr>\n",
       "      <th>199998</th>\n",
       "      <td>['arrived', 'local', 'asked', 'local', 'servic...</td>\n",
       "      <td>0.0</td>\n",
       "    </tr>\n",
       "    <tr>\n",
       "      <th>199999</th>\n",
       "      <td>['veg', 'roll', 'veggie', 'kebab', 'suffice', ...</td>\n",
       "      <td>0.0</td>\n",
       "    </tr>\n",
       "  </tbody>\n",
       "</table>\n",
       "<p>200000 rows × 2 columns</p>\n",
       "</div>"
      ],
      "text/plain": [
       "                                         processed_tokens  label\n",
       "0       ['came', 'whim', 'night', 'really', 'loved', '...    1.0\n",
       "1       ['food', 'average', 'nothing', 'bad', 'nothing...    0.0\n",
       "2       ['im', 'sure', 'great', 'work', 'car', 'front'...    0.0\n",
       "3       ['th', 'pharmacist', 'pollac', 'location', 'al...    0.0\n",
       "4       ['although', 'read', 'yelp', 'review', 'often'...    1.0\n",
       "...                                                   ...    ...\n",
       "199995  ['highvolume', 'dealership', 'enough', 'effort...    0.0\n",
       "199996  ['finally', 'got', 'chance', 'try', 'place', '...    1.0\n",
       "199997  ['indian', 'restaurant', 'ive', 'searching', '...    1.0\n",
       "199998  ['arrived', 'local', 'asked', 'local', 'servic...    0.0\n",
       "199999  ['veg', 'roll', 'veggie', 'kebab', 'suffice', ...    0.0\n",
       "\n",
       "[200000 rows x 2 columns]"
      ]
     },
     "execution_count": 4,
     "metadata": {},
     "output_type": "execute_result"
    }
   ],
   "source": [
    "dfnew100000"
   ]
  },
  {
   "cell_type": "code",
   "execution_count": 5,
   "metadata": {},
   "outputs": [
    {
     "name": "stdout",
     "output_type": "stream",
     "text": [
      "Количество уникальных значений в столбце 'processed_tokens': 199712\n",
      "Количество уникальных значений в столбце 'label': 2\n"
     ]
    }
   ],
   "source": [
    "# Вывод количества уникальных значений по каждому столбцу\n",
    "for column in dfnew100000.columns:\n",
    "    unique_count = dfnew100000[column].nunique()\n",
    "    print(f\"Количество уникальных значений в столбце '{column}': {unique_count}\")"
   ]
  },
  {
   "cell_type": "code",
   "execution_count": 6,
   "metadata": {},
   "outputs": [],
   "source": [
    "# Подготовка данных для обучения модели\n",
    "X100 = dfnew100000['processed_tokens']\n",
    "y100 = dfnew100000['label']"
   ]
  },
  {
   "cell_type": "code",
   "execution_count": 7,
   "metadata": {},
   "outputs": [],
   "source": [
    "# Преобразование списка токенов в строку\n",
    "X100 = X100.apply(lambda x: ' '.join(eval(x)) if isinstance(x, str) else ' '.join(x))"
   ]
  },
  {
   "cell_type": "code",
   "execution_count": 8,
   "metadata": {},
   "outputs": [],
   "source": [
    "# Разделение данных на обучающую и тестовую выборки\n",
    "X_train100, X_test100, y_train100, y_test100 = train_test_split(X100, y100, test_size=0.2, random_state=42)"
   ]
  },
  {
   "cell_type": "code",
   "execution_count": 9,
   "metadata": {},
   "outputs": [],
   "source": [
    "# Загрузка предобученного токенизатора BERT\n",
    "tokenizer = BertTokenizer.from_pretrained('bert-base-uncased')"
   ]
  },
  {
   "cell_type": "code",
   "execution_count": 11,
   "metadata": {},
   "outputs": [],
   "source": [
    "# Функция для токенизации данных\n",
    "def tokenize_data(texts, labels, tokenizer, max_length=128):\n",
    "    input_ids = []\n",
    "    attention_masks = []\n",
    "\n",
    "    for text in texts:\n",
    "        encoded_data = tokenizer.encode_plus(\n",
    "            text,\n",
    "            add_special_tokens=True,\n",
    "            max_length=max_length,\n",
    "            padding='max_length',\n",
    "            truncation=True,\n",
    "            return_attention_mask=True\n",
    "        )\n",
    "        input_ids.append(encoded_data['input_ids'])\n",
    "        attention_masks.append(encoded_data['attention_mask'])\n",
    "\n",
    "    return tf.convert_to_tensor(input_ids), tf.convert_to_tensor(attention_masks), tf.convert_to_tensor(labels)"
   ]
  },
  {
   "cell_type": "code",
   "execution_count": 12,
   "metadata": {},
   "outputs": [],
   "source": [
    "# Токенизация обучающих и тестовых данных\n",
    "train_input_ids, train_attention_masks, train_labels = tokenize_data(X_train100, y_train100, tokenizer)\n",
    "test_input_ids, test_attention_masks, test_labels = tokenize_data(X_test100, y_test100, tokenizer)"
   ]
  },
  {
   "cell_type": "code",
   "execution_count": 13,
   "metadata": {},
   "outputs": [],
   "source": [
    "# Создание TensorFlow датасетов из токенизированных данных\n",
    "train_dataset = tf.data.Dataset.from_tensor_slices(({'input_ids': train_input_ids, 'attention_mask': train_attention_masks}, train_labels))\n",
    "test_dataset = tf.data.Dataset.from_tensor_slices(({'input_ids': test_input_ids, 'attention_mask': test_attention_masks}, test_labels))"
   ]
  },
  {
   "cell_type": "markdown",
   "metadata": {},
   "source": [
    "### 2.2. Загрузка предобученной модели BERT для классификации"
   ]
  },
  {
   "cell_type": "code",
   "execution_count": 14,
   "metadata": {},
   "outputs": [
    {
     "name": "stdout",
     "output_type": "stream",
     "text": [
      "WARNING:tensorflow:From c:\\Users\\akhim\\AppData\\Local\\Programs\\Python\\Python312\\Lib\\site-packages\\tf_keras\\src\\backend.py:873: The name tf.get_default_graph is deprecated. Please use tf.compat.v1.get_default_graph instead.\n",
      "\n"
     ]
    },
    {
     "name": "stderr",
     "output_type": "stream",
     "text": [
      "All PyTorch model weights were used when initializing TFBertForSequenceClassification.\n",
      "\n",
      "Some weights or buffers of the TF 2.0 model TFBertForSequenceClassification were not initialized from the PyTorch model and are newly initialized: ['classifier.weight', 'classifier.bias']\n",
      "You should probably TRAIN this model on a down-stream task to be able to use it for predictions and inference.\n"
     ]
    }
   ],
   "source": [
    "# Загрузка модели BERT, обученной для задачи классификации\n",
    "model = TFBertForSequenceClassification.from_pretrained('bert-base-uncased', num_labels=2)"
   ]
  },
  {
   "cell_type": "code",
   "execution_count": 15,
   "metadata": {},
   "outputs": [],
   "source": [
    "# Определение оптимизатора, функции потерь и метрики\n",
    "optimizer = tf.keras.optimizers.Adam(learning_rate=2e-5, epsilon=1e-08)\n",
    "loss = tf.keras.losses.SparseCategoricalCrossentropy(from_logits=True)\n",
    "metric = tf.keras.metrics.SparseCategoricalAccuracy('accuracy')"
   ]
  },
  {
   "cell_type": "code",
   "execution_count": 16,
   "metadata": {},
   "outputs": [],
   "source": [
    "# Компиляция модели\n",
    "model.compile(optimizer=optimizer, loss=loss, metrics=[metric])"
   ]
  },
  {
   "cell_type": "markdown",
   "metadata": {},
   "source": [
    "### 2.3. Обучение модели"
   ]
  },
  {
   "cell_type": "code",
   "execution_count": 17,
   "metadata": {},
   "outputs": [
    {
     "name": "stdout",
     "output_type": "stream",
     "text": [
      "Epoch 1/3\n",
      "WARNING:tensorflow:From c:\\Users\\akhim\\AppData\\Local\\Programs\\Python\\Python312\\Lib\\site-packages\\tf_keras\\src\\utils\\tf_utils.py:492: The name tf.ragged.RaggedTensorValue is deprecated. Please use tf.compat.v1.ragged.RaggedTensorValue instead.\n",
      "\n",
      "5000/5000 [==============================] - 32912s 7s/step - loss: 0.1398 - accuracy: 0.9463 - val_loss: 0.1043 - val_accuracy: 0.9589\n",
      "Epoch 2/3\n",
      "5000/5000 [==============================] - 29189s 6s/step - loss: 0.0762 - accuracy: 0.9724 - val_loss: 0.1310 - val_accuracy: 0.9588\n",
      "Epoch 3/3\n",
      "5000/5000 [==============================] - 28985s 6s/step - loss: 0.0410 - accuracy: 0.9858 - val_loss: 0.1434 - val_accuracy: 0.9618\n"
     ]
    }
   ],
   "source": [
    "# Обучение модели на обучающих данных и валидация на тестовых данных\n",
    "history100 = model.fit(train_dataset.shuffle(100).batch(32), epochs=3, validation_data=test_dataset.batch(32))"
   ]
  },
  {
   "cell_type": "code",
   "execution_count": 18,
   "metadata": {},
   "outputs": [
    {
     "name": "stdout",
     "output_type": "stream",
     "text": [
      "1250/1250 [==============================] - 1966s 2s/step - loss: 0.1434 - accuracy: 0.9618\n",
      "Test Accuracy: 0.961775004863739\n"
     ]
    }
   ],
   "source": [
    "# Оценка точности модели на тестовых данных\n",
    "score = model.evaluate(test_dataset.batch(32))\n",
    "print(f'Test Accuracy: {score[1]}')"
   ]
  },
  {
   "cell_type": "markdown",
   "metadata": {},
   "source": [
    "### 2.4. Визуализация результатов обучения"
   ]
  },
  {
   "cell_type": "code",
   "execution_count": 21,
   "metadata": {},
   "outputs": [
    {
     "data": {
      "text/plain": [
       "<Figure size 1200x400 with 0 Axes>"
      ]
     },
     "execution_count": 21,
     "metadata": {},
     "output_type": "execute_result"
    },
    {
     "data": {
      "text/plain": [
       "<Figure size 1200x400 with 0 Axes>"
      ]
     },
     "metadata": {},
     "output_type": "display_data"
    }
   ],
   "source": [
    "# Визуализация графиков потерь и точности для обучающих и тестовых данных\n",
    "plt.figure(figsize=(12, 4))"
   ]
  },
  {
   "cell_type": "code",
   "execution_count": 22,
   "metadata": {},
   "outputs": [
    {
     "data": {
      "text/plain": [
       "<matplotlib.legend.Legend at 0x2046349d7c0>"
      ]
     },
     "execution_count": 22,
     "metadata": {},
     "output_type": "execute_result"
    },
    {
     "data": {
      "image/png": "[encoded data removed]",
      "text/plain": [
       "<Figure size 640x480 with 1 Axes>"
      ]
     },
     "metadata": {},
     "output_type": "display_data"
    }
   ],
   "source": [
    "# График потерь\n",
    "plt.subplot(1, 2, 1)\n",
    "plt.plot(history100.history['loss'], label='train_loss')\n",
    "plt.plot(history100.history['val_loss'], label='val_loss')\n",
    "plt.title('Loss')\n",
    "plt.xlabel('Epoch')\n",
    "plt.ylabel('Loss')\n",
    "plt.legend()"
   ]
  },
  {
   "cell_type": "markdown",
   "metadata": {},
   "source": [
    "График потерь (Loss)\n",
    "\n",
    "    Training Loss (Синяя линия):\n",
    "        На графике видно, что потеря на тренировочных данных (training loss) уменьшается по мере увеличения числа эпох. Это хороший признак того, что модель обучается и лучше подгоняется к тренировочным данным.\n",
    "\n",
    "    Validation Loss (Оранжевая линия):\n",
    "        Потеря на валидационных данных (validation loss) сначала немного снижается, а затем начинает расти. Это может указывать на переобучение (overfitting) модели, где она начинает слишком хорошо подгоняться под тренировочные данные, теряя обобщающую способность на валидационных данных.\n",
    "    Переобучение (Overfitting):\n",
    "        Модель явно показывает признаки переобучения. Это видно по расхождению между training loss и validation loss после первой эпохи. Переобучение происходит, когда модель слишком сильно подгоняется под тренировочные данные, теряя способность обобщать на новые, невиданные данные."
   ]
  },
  {
   "cell_type": "code",
   "execution_count": 23,
   "metadata": {},
   "outputs": [
    {
     "data": {
      "image/png": "[encoded data removed]",
      "text/plain": [
       "<Figure size 640x480 with 1 Axes>"
      ]
     },
     "metadata": {},
     "output_type": "display_data"
    }
   ],
   "source": [
    "# График точности\n",
    "plt.subplot(1, 2, 2)\n",
    "plt.plot(history100.history['accuracy'], label='train_accuracy')\n",
    "plt.plot(history100.history['val_accuracy'], label='val_accuracy')\n",
    "plt.title('Accuracy')\n",
    "plt.xlabel('Epoch')\n",
    "plt.ylabel('Accuracy')\n",
    "plt.legend()\n",
    "\n",
    "plt.show()"
   ]
  },
  {
   "cell_type": "markdown",
   "metadata": {},
   "source": [
    "График точности (Accuracy)\n",
    "\n",
    "    Training Accuracy (Синяя линия):\n",
    "        Точность на тренировочных данных (training accuracy) значительно увеличивается по мере обучения. Это показывает, что модель лучше распознает шаблоны в тренировочных данных.\n",
    "\n",
    "    Validation Accuracy (Оранжевая линия):\n",
    "        Точность на валидационных данных (validation accuracy) остается практически на одном уровне и лишь слегка увеличивается. Это может указывать на то, что модель не улучшает свою способность обобщать на валидационные данные."
   ]
  },
  {
   "cell_type": "markdown",
   "metadata": {},
   "source": [
    "### 2.5. Сохранение обученной модели"
   ]
  },
  {
   "cell_type": "code",
   "execution_count": 24,
   "metadata": {},
   "outputs": [
    {
     "name": "stdout",
     "output_type": "stream",
     "text": [
      "Модель сохранена как ./model100/sentiment_model100\n"
     ]
    }
   ],
   "source": [
    "# Сохранение обученной модели на диск\n",
    "model.save_pretrained('./model100/sentiment_model100')\n",
    "print(\"Модель сохранена как ./model100/sentiment_model100\")"
   ]
  },
  {
   "cell_type": "code",
   "execution_count": 25,
   "metadata": {},
   "outputs": [
    {
     "name": "stdout",
     "output_type": "stream",
     "text": [
      "Датасет сохранен в формате ./model100/dfnew100000.json\n"
     ]
    }
   ],
   "source": [
    "# Сохранение в формат JSON\n",
    "dfnew100000.to_json('./model100/dfnew100000.json', orient='records', lines=True)\n",
    "print(\"Датасет сохранен в формате ./model100/dfnew100000.json\")"
   ]
  },
  {
   "cell_type": "code",
   "execution_count": 26,
   "metadata": {},
   "outputs": [],
   "source": [
    "# Сохранение конфигурации модели\n",
    "with open('./model100/model100_config.json', 'w') as f:\n",
    "    json.dump(model.get_config(), f)"
   ]
  },
  {
   "cell_type": "code",
   "execution_count": 27,
   "metadata": {},
   "outputs": [
    {
     "data": {
      "text/plain": [
       "('./model100/tokenizer100\\\\tokenizer_config.json',\n",
       " './model100/tokenizer100\\\\special_tokens_map.json',\n",
       " './model100/tokenizer100\\\\vocab.txt',\n",
       " './model100/tokenizer100\\\\added_tokens.json')"
      ]
     },
     "execution_count": 27,
     "metadata": {},
     "output_type": "execute_result"
    }
   ],
   "source": [
    "# cохранение токенизатора\n",
    "tokenizer.save_pretrained('./model100/tokenizer100')"
   ]
  },
  {
   "cell_type": "code",
   "execution_count": 28,
   "metadata": {},
   "outputs": [],
   "source": [
    "import pickle"
   ]
  },
  {
   "cell_type": "code",
   "execution_count": 30,
   "metadata": {},
   "outputs": [],
   "source": [
    "# сохранение истории обучения\n",
    "with open('./model100/training_history100.pkl', 'wb') as f:\n",
    "    pickle.dump(history100.history, f)"
   ]
  }
 ],
 "metadata": {
  "kernelspec": {
   "display_name": "Python 3",
   "language": "python",
   "name": "python3"
  },
  "language_info": {
   "codemirror_mode": {
    "name": "ipython",
    "version": 3
   },
   "file_extension": ".py",
   "mimetype": "text/x-python",
   "name": "python",
   "nbconvert_exporter": "python",
   "pygments_lexer": "ipython3",
   "version": "3.12.4"
  }
 },
 "nbformat": 4,
 "nbformat_minor": 2
}
